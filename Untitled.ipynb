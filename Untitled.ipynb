{
 "cells": [
  {
   "cell_type": "code",
   "execution_count": 1,
   "id": "b6d62d83",
   "metadata": {},
   "outputs": [],
   "source": [
    "import pandas as pd\n",
    "import numpy as np\n",
    "import matplotlib.pyplot as plt\n",
    "import datetime as datetime\n",
    "import datetime as timedelta\n"
   ]
  },
  {
   "cell_type": "code",
   "execution_count": 2,
   "id": "3c602d24",
   "metadata": {},
   "outputs": [
    {
     "data": {
      "text/html": [
       "<div>\n",
       "<style scoped>\n",
       "    .dataframe tbody tr th:only-of-type {\n",
       "        vertical-align: middle;\n",
       "    }\n",
       "\n",
       "    .dataframe tbody tr th {\n",
       "        vertical-align: top;\n",
       "    }\n",
       "\n",
       "    .dataframe thead th {\n",
       "        text-align: right;\n",
       "    }\n",
       "</style>\n",
       "<table border=\"1\" class=\"dataframe\">\n",
       "  <thead>\n",
       "    <tr style=\"text-align: right;\">\n",
       "      <th></th>\n",
       "      <th>date</th>\n",
       "      <th>open</th>\n",
       "      <th>high</th>\n",
       "      <th>low</th>\n",
       "      <th>close</th>\n",
       "      <th>volume</th>\n",
       "      <th>profit or not</th>\n",
       "    </tr>\n",
       "  </thead>\n",
       "  <tbody>\n",
       "    <tr>\n",
       "      <th>0</th>\n",
       "      <td>12-12-1980</td>\n",
       "      <td>0.1003</td>\n",
       "      <td>0.1007</td>\n",
       "      <td>0.1003</td>\n",
       "      <td>0.1003</td>\n",
       "      <td>469033600</td>\n",
       "      <td>0</td>\n",
       "    </tr>\n",
       "    <tr>\n",
       "      <th>1</th>\n",
       "      <td>15-12-1980</td>\n",
       "      <td>0.0955</td>\n",
       "      <td>0.0955</td>\n",
       "      <td>0.0951</td>\n",
       "      <td>0.0951</td>\n",
       "      <td>175884800</td>\n",
       "      <td>1</td>\n",
       "    </tr>\n",
       "    <tr>\n",
       "      <th>2</th>\n",
       "      <td>16-12-1980</td>\n",
       "      <td>0.0885</td>\n",
       "      <td>0.0885</td>\n",
       "      <td>0.0881</td>\n",
       "      <td>0.0881</td>\n",
       "      <td>105728000</td>\n",
       "      <td>1</td>\n",
       "    </tr>\n",
       "    <tr>\n",
       "      <th>3</th>\n",
       "      <td>17-12-1980</td>\n",
       "      <td>0.0902</td>\n",
       "      <td>0.0907</td>\n",
       "      <td>0.0902</td>\n",
       "      <td>0.0902</td>\n",
       "      <td>86441600</td>\n",
       "      <td>0</td>\n",
       "    </tr>\n",
       "    <tr>\n",
       "      <th>4</th>\n",
       "      <td>18-12-1980</td>\n",
       "      <td>0.0929</td>\n",
       "      <td>0.0933</td>\n",
       "      <td>0.0929</td>\n",
       "      <td>0.0929</td>\n",
       "      <td>73449600</td>\n",
       "      <td>0</td>\n",
       "    </tr>\n",
       "  </tbody>\n",
       "</table>\n",
       "</div>"
      ],
      "text/plain": [
       "         date    open    high     low   close     volume  profit or not\n",
       "0  12-12-1980  0.1003  0.1007  0.1003  0.1003  469033600              0\n",
       "1  15-12-1980  0.0955  0.0955  0.0951  0.0951  175884800              1\n",
       "2  16-12-1980  0.0885  0.0885  0.0881  0.0881  105728000              1\n",
       "3  17-12-1980  0.0902  0.0907  0.0902  0.0902   86441600              0\n",
       "4  18-12-1980  0.0929  0.0933  0.0929  0.0929   73449600              0"
      ]
     },
     "execution_count": 2,
     "metadata": {},
     "output_type": "execute_result"
    }
   ],
   "source": [
    "df = pd.read_csv('D:/apple.csv')\n",
    "df.head()"
   ]
  },
  {
   "cell_type": "code",
   "execution_count": 5,
   "id": "d8f8825e",
   "metadata": {},
   "outputs": [
    {
     "data": {
      "text/html": [
       "<div>\n",
       "<style scoped>\n",
       "    .dataframe tbody tr th:only-of-type {\n",
       "        vertical-align: middle;\n",
       "    }\n",
       "\n",
       "    .dataframe tbody tr th {\n",
       "        vertical-align: top;\n",
       "    }\n",
       "\n",
       "    .dataframe thead th {\n",
       "        text-align: right;\n",
       "    }\n",
       "</style>\n",
       "<table border=\"1\" class=\"dataframe\">\n",
       "  <thead>\n",
       "    <tr style=\"text-align: right;\">\n",
       "      <th></th>\n",
       "      <th>date</th>\n",
       "      <th>open</th>\n",
       "      <th>high</th>\n",
       "      <th>low</th>\n",
       "      <th>close</th>\n",
       "      <th>volume</th>\n",
       "      <th>profit or not</th>\n",
       "    </tr>\n",
       "  </thead>\n",
       "  <tbody>\n",
       "    <tr>\n",
       "      <th>10554</th>\n",
       "      <td>24-10-2022</td>\n",
       "      <td>147.185</td>\n",
       "      <td>150.230</td>\n",
       "      <td>146.00</td>\n",
       "      <td>149.45</td>\n",
       "      <td>75569074</td>\n",
       "      <td>0</td>\n",
       "    </tr>\n",
       "    <tr>\n",
       "      <th>10555</th>\n",
       "      <td>25-10-2022</td>\n",
       "      <td>150.090</td>\n",
       "      <td>152.490</td>\n",
       "      <td>149.36</td>\n",
       "      <td>152.34</td>\n",
       "      <td>73583421</td>\n",
       "      <td>0</td>\n",
       "    </tr>\n",
       "    <tr>\n",
       "      <th>10556</th>\n",
       "      <td>26-10-2022</td>\n",
       "      <td>150.960</td>\n",
       "      <td>151.990</td>\n",
       "      <td>148.04</td>\n",
       "      <td>149.35</td>\n",
       "      <td>87769611</td>\n",
       "      <td>1</td>\n",
       "    </tr>\n",
       "    <tr>\n",
       "      <th>10557</th>\n",
       "      <td>27-10-2022</td>\n",
       "      <td>148.070</td>\n",
       "      <td>149.046</td>\n",
       "      <td>144.13</td>\n",
       "      <td>144.80</td>\n",
       "      <td>108110875</td>\n",
       "      <td>1</td>\n",
       "    </tr>\n",
       "    <tr>\n",
       "      <th>10558</th>\n",
       "      <td>28-10-2022</td>\n",
       "      <td>148.200</td>\n",
       "      <td>157.500</td>\n",
       "      <td>147.82</td>\n",
       "      <td>155.74</td>\n",
       "      <td>162857942</td>\n",
       "      <td>0</td>\n",
       "    </tr>\n",
       "  </tbody>\n",
       "</table>\n",
       "</div>"
      ],
      "text/plain": [
       "             date     open     high     low   close     volume  profit or not\n",
       "10554  24-10-2022  147.185  150.230  146.00  149.45   75569074              0\n",
       "10555  25-10-2022  150.090  152.490  149.36  152.34   73583421              0\n",
       "10556  26-10-2022  150.960  151.990  148.04  149.35   87769611              1\n",
       "10557  27-10-2022  148.070  149.046  144.13  144.80  108110875              1\n",
       "10558  28-10-2022  148.200  157.500  147.82  155.74  162857942              0"
      ]
     },
     "execution_count": 5,
     "metadata": {},
     "output_type": "execute_result"
    }
   ],
   "source": [
    "df.tail()"
   ]
  },
  {
   "cell_type": "code",
   "execution_count": 6,
   "id": "8a254260",
   "metadata": {},
   "outputs": [
    {
     "data": {
      "text/html": [
       "<div>\n",
       "<style scoped>\n",
       "    .dataframe tbody tr th:only-of-type {\n",
       "        vertical-align: middle;\n",
       "    }\n",
       "\n",
       "    .dataframe tbody tr th {\n",
       "        vertical-align: top;\n",
       "    }\n",
       "\n",
       "    .dataframe thead th {\n",
       "        text-align: right;\n",
       "    }\n",
       "</style>\n",
       "<table border=\"1\" class=\"dataframe\">\n",
       "  <thead>\n",
       "    <tr style=\"text-align: right;\">\n",
       "      <th></th>\n",
       "      <th>date</th>\n",
       "      <th>open</th>\n",
       "      <th>high</th>\n",
       "      <th>low</th>\n",
       "      <th>close</th>\n",
       "      <th>volume</th>\n",
       "      <th>profit or not</th>\n",
       "    </tr>\n",
       "  </thead>\n",
       "  <tbody>\n",
       "    <tr>\n",
       "      <th>0</th>\n",
       "      <td>12-12-1980</td>\n",
       "      <td>0.1003</td>\n",
       "      <td>0.1007</td>\n",
       "      <td>0.1003</td>\n",
       "      <td>0.1003</td>\n",
       "      <td>469033600</td>\n",
       "      <td>0</td>\n",
       "    </tr>\n",
       "    <tr>\n",
       "      <th>1</th>\n",
       "      <td>15-12-1980</td>\n",
       "      <td>0.0955</td>\n",
       "      <td>0.0955</td>\n",
       "      <td>0.0951</td>\n",
       "      <td>0.0951</td>\n",
       "      <td>175884800</td>\n",
       "      <td>1</td>\n",
       "    </tr>\n",
       "    <tr>\n",
       "      <th>2</th>\n",
       "      <td>16-12-1980</td>\n",
       "      <td>0.0885</td>\n",
       "      <td>0.0885</td>\n",
       "      <td>0.0881</td>\n",
       "      <td>0.0881</td>\n",
       "      <td>105728000</td>\n",
       "      <td>1</td>\n",
       "    </tr>\n",
       "    <tr>\n",
       "      <th>3</th>\n",
       "      <td>17-12-1980</td>\n",
       "      <td>0.0902</td>\n",
       "      <td>0.0907</td>\n",
       "      <td>0.0902</td>\n",
       "      <td>0.0902</td>\n",
       "      <td>86441600</td>\n",
       "      <td>0</td>\n",
       "    </tr>\n",
       "    <tr>\n",
       "      <th>4</th>\n",
       "      <td>18-12-1980</td>\n",
       "      <td>0.0929</td>\n",
       "      <td>0.0933</td>\n",
       "      <td>0.0929</td>\n",
       "      <td>0.0929</td>\n",
       "      <td>73449600</td>\n",
       "      <td>0</td>\n",
       "    </tr>\n",
       "    <tr>\n",
       "      <th>...</th>\n",
       "      <td>...</td>\n",
       "      <td>...</td>\n",
       "      <td>...</td>\n",
       "      <td>...</td>\n",
       "      <td>...</td>\n",
       "      <td>...</td>\n",
       "      <td>...</td>\n",
       "    </tr>\n",
       "    <tr>\n",
       "      <th>10554</th>\n",
       "      <td>24-10-2022</td>\n",
       "      <td>147.1850</td>\n",
       "      <td>150.2300</td>\n",
       "      <td>146.0000</td>\n",
       "      <td>149.4500</td>\n",
       "      <td>75569074</td>\n",
       "      <td>0</td>\n",
       "    </tr>\n",
       "    <tr>\n",
       "      <th>10555</th>\n",
       "      <td>25-10-2022</td>\n",
       "      <td>150.0900</td>\n",
       "      <td>152.4900</td>\n",
       "      <td>149.3600</td>\n",
       "      <td>152.3400</td>\n",
       "      <td>73583421</td>\n",
       "      <td>0</td>\n",
       "    </tr>\n",
       "    <tr>\n",
       "      <th>10556</th>\n",
       "      <td>26-10-2022</td>\n",
       "      <td>150.9600</td>\n",
       "      <td>151.9900</td>\n",
       "      <td>148.0400</td>\n",
       "      <td>149.3500</td>\n",
       "      <td>87769611</td>\n",
       "      <td>1</td>\n",
       "    </tr>\n",
       "    <tr>\n",
       "      <th>10557</th>\n",
       "      <td>27-10-2022</td>\n",
       "      <td>148.0700</td>\n",
       "      <td>149.0460</td>\n",
       "      <td>144.1300</td>\n",
       "      <td>144.8000</td>\n",
       "      <td>108110875</td>\n",
       "      <td>1</td>\n",
       "    </tr>\n",
       "    <tr>\n",
       "      <th>10558</th>\n",
       "      <td>28-10-2022</td>\n",
       "      <td>148.2000</td>\n",
       "      <td>157.5000</td>\n",
       "      <td>147.8200</td>\n",
       "      <td>155.7400</td>\n",
       "      <td>162857942</td>\n",
       "      <td>0</td>\n",
       "    </tr>\n",
       "  </tbody>\n",
       "</table>\n",
       "<p>10559 rows × 7 columns</p>\n",
       "</div>"
      ],
      "text/plain": [
       "             date      open      high       low     close     volume  \\\n",
       "0      12-12-1980    0.1003    0.1007    0.1003    0.1003  469033600   \n",
       "1      15-12-1980    0.0955    0.0955    0.0951    0.0951  175884800   \n",
       "2      16-12-1980    0.0885    0.0885    0.0881    0.0881  105728000   \n",
       "3      17-12-1980    0.0902    0.0907    0.0902    0.0902   86441600   \n",
       "4      18-12-1980    0.0929    0.0933    0.0929    0.0929   73449600   \n",
       "...           ...       ...       ...       ...       ...        ...   \n",
       "10554  24-10-2022  147.1850  150.2300  146.0000  149.4500   75569074   \n",
       "10555  25-10-2022  150.0900  152.4900  149.3600  152.3400   73583421   \n",
       "10556  26-10-2022  150.9600  151.9900  148.0400  149.3500   87769611   \n",
       "10557  27-10-2022  148.0700  149.0460  144.1300  144.8000  108110875   \n",
       "10558  28-10-2022  148.2000  157.5000  147.8200  155.7400  162857942   \n",
       "\n",
       "       profit or not  \n",
       "0                  0  \n",
       "1                  1  \n",
       "2                  1  \n",
       "3                  0  \n",
       "4                  0  \n",
       "...              ...  \n",
       "10554              0  \n",
       "10555              0  \n",
       "10556              1  \n",
       "10557              1  \n",
       "10558              0  \n",
       "\n",
       "[10559 rows x 7 columns]"
      ]
     },
     "execution_count": 6,
     "metadata": {},
     "output_type": "execute_result"
    }
   ],
   "source": [
    "df"
   ]
  },
  {
   "cell_type": "code",
   "execution_count": 7,
   "id": "fdb0cc2a",
   "metadata": {},
   "outputs": [
    {
     "data": {
      "text/html": [
       "<div>\n",
       "<style scoped>\n",
       "    .dataframe tbody tr th:only-of-type {\n",
       "        vertical-align: middle;\n",
       "    }\n",
       "\n",
       "    .dataframe tbody tr th {\n",
       "        vertical-align: top;\n",
       "    }\n",
       "\n",
       "    .dataframe thead th {\n",
       "        text-align: right;\n",
       "    }\n",
       "</style>\n",
       "<table border=\"1\" class=\"dataframe\">\n",
       "  <thead>\n",
       "    <tr style=\"text-align: right;\">\n",
       "      <th></th>\n",
       "      <th>close</th>\n",
       "    </tr>\n",
       "  </thead>\n",
       "  <tbody>\n",
       "    <tr>\n",
       "      <th>0</th>\n",
       "      <td>0.1003</td>\n",
       "    </tr>\n",
       "    <tr>\n",
       "      <th>1</th>\n",
       "      <td>0.0951</td>\n",
       "    </tr>\n",
       "    <tr>\n",
       "      <th>2</th>\n",
       "      <td>0.0881</td>\n",
       "    </tr>\n",
       "    <tr>\n",
       "      <th>3</th>\n",
       "      <td>0.0902</td>\n",
       "    </tr>\n",
       "    <tr>\n",
       "      <th>4</th>\n",
       "      <td>0.0929</td>\n",
       "    </tr>\n",
       "    <tr>\n",
       "      <th>...</th>\n",
       "      <td>...</td>\n",
       "    </tr>\n",
       "    <tr>\n",
       "      <th>10554</th>\n",
       "      <td>149.4500</td>\n",
       "    </tr>\n",
       "    <tr>\n",
       "      <th>10555</th>\n",
       "      <td>152.3400</td>\n",
       "    </tr>\n",
       "    <tr>\n",
       "      <th>10556</th>\n",
       "      <td>149.3500</td>\n",
       "    </tr>\n",
       "    <tr>\n",
       "      <th>10557</th>\n",
       "      <td>144.8000</td>\n",
       "    </tr>\n",
       "    <tr>\n",
       "      <th>10558</th>\n",
       "      <td>155.7400</td>\n",
       "    </tr>\n",
       "  </tbody>\n",
       "</table>\n",
       "<p>10559 rows × 1 columns</p>\n",
       "</div>"
      ],
      "text/plain": [
       "          close\n",
       "0        0.1003\n",
       "1        0.0951\n",
       "2        0.0881\n",
       "3        0.0902\n",
       "4        0.0929\n",
       "...         ...\n",
       "10554  149.4500\n",
       "10555  152.3400\n",
       "10556  149.3500\n",
       "10557  144.8000\n",
       "10558  155.7400\n",
       "\n",
       "[10559 rows x 1 columns]"
      ]
     },
     "execution_count": 7,
     "metadata": {},
     "output_type": "execute_result"
    }
   ],
   "source": [
    "df_1= pd.DataFrame(df.close)\n",
    "df_1"
   ]
  },
  {
   "cell_type": "code",
   "execution_count": 8,
   "id": "968ffde8",
   "metadata": {},
   "outputs": [
    {
     "data": {
      "text/plain": [
       "<AxesSubplot:>"
      ]
     },
     "execution_count": 8,
     "metadata": {},
     "output_type": "execute_result"
    },
    {
     "data": {
      "image/png": "[encoded data removed]",
      "text/plain": [
       "<Figure size 432x288 with 1 Axes>"
      ]
     },
     "metadata": {
      "needs_background": "light"
     },
     "output_type": "display_data"
    }
   ],
   "source": [
    "df_1.plot()"
   ]
  },
  {
   "cell_type": "code",
   "execution_count": 9,
   "id": "45955a9f",
   "metadata": {},
   "outputs": [
    {
     "data": {
      "text/html": [
       "<div>\n",
       "<style scoped>\n",
       "    .dataframe tbody tr th:only-of-type {\n",
       "        vertical-align: middle;\n",
       "    }\n",
       "\n",
       "    .dataframe tbody tr th {\n",
       "        vertical-align: top;\n",
       "    }\n",
       "\n",
       "    .dataframe thead th {\n",
       "        text-align: right;\n",
       "    }\n",
       "</style>\n",
       "<table border=\"1\" class=\"dataframe\">\n",
       "  <thead>\n",
       "    <tr style=\"text-align: right;\">\n",
       "      <th></th>\n",
       "      <th>open</th>\n",
       "    </tr>\n",
       "  </thead>\n",
       "  <tbody>\n",
       "    <tr>\n",
       "      <th>0</th>\n",
       "      <td>0.1003</td>\n",
       "    </tr>\n",
       "    <tr>\n",
       "      <th>1</th>\n",
       "      <td>0.0955</td>\n",
       "    </tr>\n",
       "    <tr>\n",
       "      <th>2</th>\n",
       "      <td>0.0885</td>\n",
       "    </tr>\n",
       "    <tr>\n",
       "      <th>3</th>\n",
       "      <td>0.0902</td>\n",
       "    </tr>\n",
       "    <tr>\n",
       "      <th>4</th>\n",
       "      <td>0.0929</td>\n",
       "    </tr>\n",
       "    <tr>\n",
       "      <th>...</th>\n",
       "      <td>...</td>\n",
       "    </tr>\n",
       "    <tr>\n",
       "      <th>10554</th>\n",
       "      <td>147.1850</td>\n",
       "    </tr>\n",
       "    <tr>\n",
       "      <th>10555</th>\n",
       "      <td>150.0900</td>\n",
       "    </tr>\n",
       "    <tr>\n",
       "      <th>10556</th>\n",
       "      <td>150.9600</td>\n",
       "    </tr>\n",
       "    <tr>\n",
       "      <th>10557</th>\n",
       "      <td>148.0700</td>\n",
       "    </tr>\n",
       "    <tr>\n",
       "      <th>10558</th>\n",
       "      <td>148.2000</td>\n",
       "    </tr>\n",
       "  </tbody>\n",
       "</table>\n",
       "<p>10559 rows × 1 columns</p>\n",
       "</div>"
      ],
      "text/plain": [
       "           open\n",
       "0        0.1003\n",
       "1        0.0955\n",
       "2        0.0885\n",
       "3        0.0902\n",
       "4        0.0929\n",
       "...         ...\n",
       "10554  147.1850\n",
       "10555  150.0900\n",
       "10556  150.9600\n",
       "10557  148.0700\n",
       "10558  148.2000\n",
       "\n",
       "[10559 rows x 1 columns]"
      ]
     },
     "execution_count": 9,
     "metadata": {},
     "output_type": "execute_result"
    }
   ],
   "source": [
    "df_2 = pd.DataFrame(df.open)\n",
    "df_2\n"
   ]
  },
  {
   "cell_type": "code",
   "execution_count": 10,
   "id": "d8ee62da",
   "metadata": {},
   "outputs": [
    {
     "data": {
      "text/plain": [
       "<AxesSubplot:>"
      ]
     },
     "execution_count": 10,
     "metadata": {},
     "output_type": "execute_result"
    },
    {
     "data": {
      "image/png": "[encoded data removed]",
      "text/plain": [
       "<Figure size 432x288 with 1 Axes>"
      ]
     },
     "metadata": {
      "needs_background": "light"
     },
     "output_type": "display_data"
    }
   ],
   "source": [
    "df_2.plot()"
   ]
  },
  {
   "cell_type": "code",
   "execution_count": 11,
   "id": "ce30d371",
   "metadata": {},
   "outputs": [],
   "source": [
    "df_ = df[(df['close']>1) & (df['open']>1)]"
   ]
  },
  {
   "cell_type": "code",
   "execution_count": 12,
   "id": "601897f8",
   "metadata": {},
   "outputs": [
    {
     "data": {
      "text/html": [
       "<div>\n",
       "<style scoped>\n",
       "    .dataframe tbody tr th:only-of-type {\n",
       "        vertical-align: middle;\n",
       "    }\n",
       "\n",
       "    .dataframe tbody tr th {\n",
       "        vertical-align: top;\n",
       "    }\n",
       "\n",
       "    .dataframe thead th {\n",
       "        text-align: right;\n",
       "    }\n",
       "</style>\n",
       "<table border=\"1\" class=\"dataframe\">\n",
       "  <thead>\n",
       "    <tr style=\"text-align: right;\">\n",
       "      <th></th>\n",
       "      <th>date</th>\n",
       "      <th>open</th>\n",
       "      <th>high</th>\n",
       "      <th>low</th>\n",
       "      <th>close</th>\n",
       "      <th>volume</th>\n",
       "      <th>profit or not</th>\n",
       "    </tr>\n",
       "  </thead>\n",
       "  <tbody>\n",
       "    <tr>\n",
       "      <th>4870</th>\n",
       "      <td>22-03-2000</td>\n",
       "      <td>1.0121</td>\n",
       "      <td>1.1006</td>\n",
       "      <td>1.0028</td>\n",
       "      <td>1.0991</td>\n",
       "      <td>567996800</td>\n",
       "      <td>0</td>\n",
       "    </tr>\n",
       "    <tr>\n",
       "      <th>4871</th>\n",
       "      <td>23-03-2000</td>\n",
       "      <td>1.0824</td>\n",
       "      <td>1.1463</td>\n",
       "      <td>1.0672</td>\n",
       "      <td>1.0771</td>\n",
       "      <td>562564800</td>\n",
       "      <td>1</td>\n",
       "    </tr>\n",
       "    <tr>\n",
       "      <th>4872</th>\n",
       "      <td>24-03-2000</td>\n",
       "      <td>1.0858</td>\n",
       "      <td>1.0972</td>\n",
       "      <td>1.0329</td>\n",
       "      <td>1.0572</td>\n",
       "      <td>446913600</td>\n",
       "      <td>1</td>\n",
       "    </tr>\n",
       "    <tr>\n",
       "      <th>4873</th>\n",
       "      <td>27-03-2000</td>\n",
       "      <td>1.0491</td>\n",
       "      <td>1.1034</td>\n",
       "      <td>1.0434</td>\n",
       "      <td>1.0638</td>\n",
       "      <td>279182400</td>\n",
       "      <td>0</td>\n",
       "    </tr>\n",
       "    <tr>\n",
       "      <th>4874</th>\n",
       "      <td>28-03-2000</td>\n",
       "      <td>1.0462</td>\n",
       "      <td>1.0824</td>\n",
       "      <td>1.0453</td>\n",
       "      <td>1.0605</td>\n",
       "      <td>202966400</td>\n",
       "      <td>0</td>\n",
       "    </tr>\n",
       "    <tr>\n",
       "      <th>...</th>\n",
       "      <td>...</td>\n",
       "      <td>...</td>\n",
       "      <td>...</td>\n",
       "      <td>...</td>\n",
       "      <td>...</td>\n",
       "      <td>...</td>\n",
       "      <td>...</td>\n",
       "    </tr>\n",
       "    <tr>\n",
       "      <th>10554</th>\n",
       "      <td>24-10-2022</td>\n",
       "      <td>147.1850</td>\n",
       "      <td>150.2300</td>\n",
       "      <td>146.0000</td>\n",
       "      <td>149.4500</td>\n",
       "      <td>75569074</td>\n",
       "      <td>0</td>\n",
       "    </tr>\n",
       "    <tr>\n",
       "      <th>10555</th>\n",
       "      <td>25-10-2022</td>\n",
       "      <td>150.0900</td>\n",
       "      <td>152.4900</td>\n",
       "      <td>149.3600</td>\n",
       "      <td>152.3400</td>\n",
       "      <td>73583421</td>\n",
       "      <td>0</td>\n",
       "    </tr>\n",
       "    <tr>\n",
       "      <th>10556</th>\n",
       "      <td>26-10-2022</td>\n",
       "      <td>150.9600</td>\n",
       "      <td>151.9900</td>\n",
       "      <td>148.0400</td>\n",
       "      <td>149.3500</td>\n",
       "      <td>87769611</td>\n",
       "      <td>1</td>\n",
       "    </tr>\n",
       "    <tr>\n",
       "      <th>10557</th>\n",
       "      <td>27-10-2022</td>\n",
       "      <td>148.0700</td>\n",
       "      <td>149.0460</td>\n",
       "      <td>144.1300</td>\n",
       "      <td>144.8000</td>\n",
       "      <td>108110875</td>\n",
       "      <td>1</td>\n",
       "    </tr>\n",
       "    <tr>\n",
       "      <th>10558</th>\n",
       "      <td>28-10-2022</td>\n",
       "      <td>148.2000</td>\n",
       "      <td>157.5000</td>\n",
       "      <td>147.8200</td>\n",
       "      <td>155.7400</td>\n",
       "      <td>162857942</td>\n",
       "      <td>0</td>\n",
       "    </tr>\n",
       "  </tbody>\n",
       "</table>\n",
       "<p>4492 rows × 7 columns</p>\n",
       "</div>"
      ],
      "text/plain": [
       "             date      open      high       low     close     volume  \\\n",
       "4870   22-03-2000    1.0121    1.1006    1.0028    1.0991  567996800   \n",
       "4871   23-03-2000    1.0824    1.1463    1.0672    1.0771  562564800   \n",
       "4872   24-03-2000    1.0858    1.0972    1.0329    1.0572  446913600   \n",
       "4873   27-03-2000    1.0491    1.1034    1.0434    1.0638  279182400   \n",
       "4874   28-03-2000    1.0462    1.0824    1.0453    1.0605  202966400   \n",
       "...           ...       ...       ...       ...       ...        ...   \n",
       "10554  24-10-2022  147.1850  150.2300  146.0000  149.4500   75569074   \n",
       "10555  25-10-2022  150.0900  152.4900  149.3600  152.3400   73583421   \n",
       "10556  26-10-2022  150.9600  151.9900  148.0400  149.3500   87769611   \n",
       "10557  27-10-2022  148.0700  149.0460  144.1300  144.8000  108110875   \n",
       "10558  28-10-2022  148.2000  157.5000  147.8200  155.7400  162857942   \n",
       "\n",
       "       profit or not  \n",
       "4870               0  \n",
       "4871               1  \n",
       "4872               1  \n",
       "4873               0  \n",
       "4874               0  \n",
       "...              ...  \n",
       "10554              0  \n",
       "10555              0  \n",
       "10556              1  \n",
       "10557              1  \n",
       "10558              0  \n",
       "\n",
       "[4492 rows x 7 columns]"
      ]
     },
     "execution_count": 12,
     "metadata": {},
     "output_type": "execute_result"
    }
   ],
   "source": [
    "df_"
   ]
  },
  {
   "cell_type": "code",
   "execution_count": 13,
   "id": "4912e53e",
   "metadata": {},
   "outputs": [],
   "source": [
    "new = pd.DataFrame(df_.open)"
   ]
  },
  {
   "cell_type": "code",
   "execution_count": 14,
   "id": "8066f9d4",
   "metadata": {},
   "outputs": [
    {
     "data": {
      "text/html": [
       "<div>\n",
       "<style scoped>\n",
       "    .dataframe tbody tr th:only-of-type {\n",
       "        vertical-align: middle;\n",
       "    }\n",
       "\n",
       "    .dataframe tbody tr th {\n",
       "        vertical-align: top;\n",
       "    }\n",
       "\n",
       "    .dataframe thead th {\n",
       "        text-align: right;\n",
       "    }\n",
       "</style>\n",
       "<table border=\"1\" class=\"dataframe\">\n",
       "  <thead>\n",
       "    <tr style=\"text-align: right;\">\n",
       "      <th></th>\n",
       "      <th>open</th>\n",
       "    </tr>\n",
       "  </thead>\n",
       "  <tbody>\n",
       "    <tr>\n",
       "      <th>4870</th>\n",
       "      <td>1.0121</td>\n",
       "    </tr>\n",
       "    <tr>\n",
       "      <th>4871</th>\n",
       "      <td>1.0824</td>\n",
       "    </tr>\n",
       "    <tr>\n",
       "      <th>4872</th>\n",
       "      <td>1.0858</td>\n",
       "    </tr>\n",
       "    <tr>\n",
       "      <th>4873</th>\n",
       "      <td>1.0491</td>\n",
       "    </tr>\n",
       "    <tr>\n",
       "      <th>4874</th>\n",
       "      <td>1.0462</td>\n",
       "    </tr>\n",
       "  </tbody>\n",
       "</table>\n",
       "</div>"
      ],
      "text/plain": [
       "        open\n",
       "4870  1.0121\n",
       "4871  1.0824\n",
       "4872  1.0858\n",
       "4873  1.0491\n",
       "4874  1.0462"
      ]
     },
     "execution_count": 14,
     "metadata": {},
     "output_type": "execute_result"
    }
   ],
   "source": [
    "new.head()"
   ]
  },
  {
   "cell_type": "code",
   "execution_count": 15,
   "id": "2439e217",
   "metadata": {},
   "outputs": [
    {
     "data": {
      "text/plain": [
       "<AxesSubplot:>"
      ]
     },
     "execution_count": 15,
     "metadata": {},
     "output_type": "execute_result"
    },
    {
     "data": {
      "image/png": "[encoded data removed]",
      "text/plain": [
       "<Figure size 432x288 with 1 Axes>"
      ]
     },
     "metadata": {
      "needs_background": "light"
     },
     "output_type": "display_data"
    }
   ],
   "source": [
    "new.plot()"
   ]
  },
  {
   "cell_type": "code",
   "execution_count": 16,
   "id": "d4875d14",
   "metadata": {},
   "outputs": [
    {
     "data": {
      "text/html": [
       "<div>\n",
       "<style scoped>\n",
       "    .dataframe tbody tr th:only-of-type {\n",
       "        vertical-align: middle;\n",
       "    }\n",
       "\n",
       "    .dataframe tbody tr th {\n",
       "        vertical-align: top;\n",
       "    }\n",
       "\n",
       "    .dataframe thead th {\n",
       "        text-align: right;\n",
       "    }\n",
       "</style>\n",
       "<table border=\"1\" class=\"dataframe\">\n",
       "  <thead>\n",
       "    <tr style=\"text-align: right;\">\n",
       "      <th></th>\n",
       "      <th>date</th>\n",
       "      <th>open</th>\n",
       "      <th>high</th>\n",
       "      <th>low</th>\n",
       "      <th>close</th>\n",
       "      <th>volume</th>\n",
       "      <th>profit or not</th>\n",
       "    </tr>\n",
       "  </thead>\n",
       "  <tbody>\n",
       "    <tr>\n",
       "      <th>8555</th>\n",
       "      <td>13-11-2014</td>\n",
       "      <td>25.1988</td>\n",
       "      <td>25.5707</td>\n",
       "      <td>25.1537</td>\n",
       "      <td>25.4287</td>\n",
       "      <td>238091420</td>\n",
       "      <td>0</td>\n",
       "    </tr>\n",
       "    <tr>\n",
       "      <th>8556</th>\n",
       "      <td>14-11-2014</td>\n",
       "      <td>25.5031</td>\n",
       "      <td>25.7375</td>\n",
       "      <td>25.4806</td>\n",
       "      <td>25.7353</td>\n",
       "      <td>176254380</td>\n",
       "      <td>0</td>\n",
       "    </tr>\n",
       "    <tr>\n",
       "      <th>8557</th>\n",
       "      <td>17-11-2014</td>\n",
       "      <td>25.7555</td>\n",
       "      <td>26.4340</td>\n",
       "      <td>25.5369</td>\n",
       "      <td>25.6924</td>\n",
       "      <td>186986848</td>\n",
       "      <td>1</td>\n",
       "    </tr>\n",
       "    <tr>\n",
       "      <th>8558</th>\n",
       "      <td>18-11-2014</td>\n",
       "      <td>25.6812</td>\n",
       "      <td>26.0756</td>\n",
       "      <td>25.6699</td>\n",
       "      <td>26.0260</td>\n",
       "      <td>176895912</td>\n",
       "      <td>0</td>\n",
       "    </tr>\n",
       "    <tr>\n",
       "      <th>8559</th>\n",
       "      <td>19-11-2014</td>\n",
       "      <td>26.0192</td>\n",
       "      <td>26.0869</td>\n",
       "      <td>25.6496</td>\n",
       "      <td>25.8457</td>\n",
       "      <td>167476640</td>\n",
       "      <td>1</td>\n",
       "    </tr>\n",
       "  </tbody>\n",
       "</table>\n",
       "</div>"
      ],
      "text/plain": [
       "            date     open     high      low    close     volume  profit or not\n",
       "8555  13-11-2014  25.1988  25.5707  25.1537  25.4287  238091420              0\n",
       "8556  14-11-2014  25.5031  25.7375  25.4806  25.7353  176254380              0\n",
       "8557  17-11-2014  25.7555  26.4340  25.5369  25.6924  186986848              1\n",
       "8558  18-11-2014  25.6812  26.0756  25.6699  26.0260  176895912              0\n",
       "8559  19-11-2014  26.0192  26.0869  25.6496  25.8457  167476640              1"
      ]
     },
     "execution_count": 16,
     "metadata": {},
     "output_type": "execute_result"
    }
   ],
   "source": [
    "new_1 = df[(df['close']>25) & (df['open']>25)]\n",
    "new_1.head()"
   ]
  },
  {
   "cell_type": "code",
   "execution_count": 17,
   "id": "98007d1d",
   "metadata": {},
   "outputs": [],
   "source": [
    "new_11 = new_1.open"
   ]
  },
  {
   "cell_type": "code",
   "execution_count": 18,
   "id": "109c071d",
   "metadata": {},
   "outputs": [
    {
     "data": {
      "text/plain": [
       "<AxesSubplot:>"
      ]
     },
     "execution_count": 18,
     "metadata": {},
     "output_type": "execute_result"
    },
    {
     "data": {
      "image/png": "[encoded data removed]",
      "text/plain": [
       "<Figure size 432x288 with 1 Axes>"
      ]
     },
     "metadata": {
      "needs_background": "light"
     },
     "output_type": "display_data"
    }
   ],
   "source": [
    "new_11.plot()"
   ]
  },
  {
   "cell_type": "code",
   "execution_count": 19,
   "id": "052434ca",
   "metadata": {},
   "outputs": [
    {
     "data": {
      "text/html": [
       "<div>\n",
       "<style scoped>\n",
       "    .dataframe tbody tr th:only-of-type {\n",
       "        vertical-align: middle;\n",
       "    }\n",
       "\n",
       "    .dataframe tbody tr th {\n",
       "        vertical-align: top;\n",
       "    }\n",
       "\n",
       "    .dataframe thead th {\n",
       "        text-align: right;\n",
       "    }\n",
       "</style>\n",
       "<table border=\"1\" class=\"dataframe\">\n",
       "  <thead>\n",
       "    <tr style=\"text-align: right;\">\n",
       "      <th></th>\n",
       "      <th>date</th>\n",
       "      <th>open</th>\n",
       "      <th>high</th>\n",
       "      <th>low</th>\n",
       "      <th>close</th>\n",
       "      <th>volume</th>\n",
       "      <th>profit or not</th>\n",
       "    </tr>\n",
       "  </thead>\n",
       "  <tbody>\n",
       "    <tr>\n",
       "      <th>9951</th>\n",
       "      <td>03-06-2020</td>\n",
       "      <td>80.0495</td>\n",
       "      <td>80.4292</td>\n",
       "      <td>79.4676</td>\n",
       "      <td>80.1629</td>\n",
       "      <td>104281476</td>\n",
       "      <td>0</td>\n",
       "    </tr>\n",
       "    <tr>\n",
       "      <th>9954</th>\n",
       "      <td>08-06-2020</td>\n",
       "      <td>81.4278</td>\n",
       "      <td>82.2538</td>\n",
       "      <td>80.7053</td>\n",
       "      <td>82.2192</td>\n",
       "      <td>95407900</td>\n",
       "      <td>0</td>\n",
       "    </tr>\n",
       "    <tr>\n",
       "      <th>9955</th>\n",
       "      <td>09-06-2020</td>\n",
       "      <td>81.8938</td>\n",
       "      <td>85.2150</td>\n",
       "      <td>81.8617</td>\n",
       "      <td>84.8156</td>\n",
       "      <td>147712364</td>\n",
       "      <td>0</td>\n",
       "    </tr>\n",
       "    <tr>\n",
       "      <th>9956</th>\n",
       "      <td>10-06-2020</td>\n",
       "      <td>85.7796</td>\n",
       "      <td>87.4735</td>\n",
       "      <td>85.3334</td>\n",
       "      <td>86.9977</td>\n",
       "      <td>165423144</td>\n",
       "      <td>0</td>\n",
       "    </tr>\n",
       "    <tr>\n",
       "      <th>9957</th>\n",
       "      <td>11-06-2020</td>\n",
       "      <td>86.1273</td>\n",
       "      <td>86.5588</td>\n",
       "      <td>82.7173</td>\n",
       "      <td>82.8209</td>\n",
       "      <td>198270700</td>\n",
       "      <td>1</td>\n",
       "    </tr>\n",
       "  </tbody>\n",
       "</table>\n",
       "</div>"
      ],
      "text/plain": [
       "            date     open     high      low    close     volume  profit or not\n",
       "9951  03-06-2020  80.0495  80.4292  79.4676  80.1629  104281476              0\n",
       "9954  08-06-2020  81.4278  82.2538  80.7053  82.2192   95407900              0\n",
       "9955  09-06-2020  81.8938  85.2150  81.8617  84.8156  147712364              0\n",
       "9956  10-06-2020  85.7796  87.4735  85.3334  86.9977  165423144              0\n",
       "9957  11-06-2020  86.1273  86.5588  82.7173  82.8209  198270700              1"
      ]
     },
     "execution_count": 19,
     "metadata": {},
     "output_type": "execute_result"
    }
   ],
   "source": [
    "df_2019 = df[(df['close']>80) & (df['open']>80)]\n",
    "df_2019.head()"
   ]
  },
  {
   "cell_type": "code",
   "execution_count": 20,
   "id": "36a075ac",
   "metadata": {},
   "outputs": [
    {
     "data": {
      "text/plain": [
       "(array([ 9900., 10000., 10100., 10200., 10300., 10400., 10500., 10600.]),\n",
       " [Text(0, 0, ''),\n",
       "  Text(0, 0, ''),\n",
       "  Text(0, 0, ''),\n",
       "  Text(0, 0, ''),\n",
       "  Text(0, 0, ''),\n",
       "  Text(0, 0, ''),\n",
       "  Text(0, 0, ''),\n",
       "  Text(0, 0, '')])"
      ]
     },
     "execution_count": 20,
     "metadata": {},
     "output_type": "execute_result"
    },
    {
     "data": {
      "image/png": "[encoded data removed]",
      "text/plain": [
       "<Figure size 432x288 with 1 Axes>"
      ]
     },
     "metadata": {
      "needs_background": "light"
     },
     "output_type": "display_data"
    }
   ],
   "source": [
    "df2019 = pd.DataFrame(df_2019.open).plot()\n",
    "plt.xticks(rotation=45)"
   ]
  },
  {
   "cell_type": "code",
   "execution_count": 21,
   "id": "b6d547d8",
   "metadata": {},
   "outputs": [],
   "source": [
    "from statsmodels.tsa.stattools import adfuller"
   ]
  },
  {
   "cell_type": "code",
   "execution_count": 22,
   "id": "832b533e",
   "metadata": {},
   "outputs": [
    {
     "data": {
      "text/plain": [
       "(-2.657677056382566,\n",
       " 0.08165264803162015,\n",
       " 0,\n",
       " 605,\n",
       " {'1%': -3.441204979288887, '5%': -2.86632910370007, '10%': -2.56932048425654},\n",
       " 2927.8073203126405)"
      ]
     },
     "execution_count": 22,
     "metadata": {},
     "output_type": "execute_result"
    }
   ],
   "source": [
    "test_result = adfuller(df_2019['open'])\n",
    "test_result\n",
    "\n",
    "#here we can see the data is not stationary as p-value is greater than 0.05"
   ]
  },
  {
   "cell_type": "markdown",
   "id": "da9d8f98",
   "metadata": {},
   "source": [
    "## Differencing"
   ]
  },
  {
   "cell_type": "code",
   "execution_count": 23,
   "id": "20630038",
   "metadata": {},
   "outputs": [
    {
     "name": "stderr",
     "output_type": "stream",
     "text": [
      "<ipython-input-23-ee3f75c105d7>:1: SettingWithCopyWarning: \n",
      "A value is trying to be set on a copy of a slice from a DataFrame.\n",
      "Try using .loc[row_indexer,col_indexer] = value instead\n",
      "\n",
      "See the caveats in the documentation: https://pandas.pydata.org/pandas-docs/stable/user_guide/indexing.html#returning-a-view-versus-a-copy\n",
      "  df_2019['diff'] =df_2019['open'] - df_2019['open'].shift(1)\n"
     ]
    }
   ],
   "source": [
    "df_2019['diff'] =df_2019['open'] - df_2019['open'].shift(1) \n",
    " #by using the differencing we shift the data set by 1 downwards for stationary purpose"
   ]
  },
  {
   "cell_type": "code",
   "execution_count": 24,
   "id": "f70c9778",
   "metadata": {},
   "outputs": [
    {
     "data": {
      "text/html": [
       "<div>\n",
       "<style scoped>\n",
       "    .dataframe tbody tr th:only-of-type {\n",
       "        vertical-align: middle;\n",
       "    }\n",
       "\n",
       "    .dataframe tbody tr th {\n",
       "        vertical-align: top;\n",
       "    }\n",
       "\n",
       "    .dataframe thead th {\n",
       "        text-align: right;\n",
       "    }\n",
       "</style>\n",
       "<table border=\"1\" class=\"dataframe\">\n",
       "  <thead>\n",
       "    <tr style=\"text-align: right;\">\n",
       "      <th></th>\n",
       "      <th>date</th>\n",
       "      <th>open</th>\n",
       "      <th>high</th>\n",
       "      <th>low</th>\n",
       "      <th>close</th>\n",
       "      <th>volume</th>\n",
       "      <th>profit or not</th>\n",
       "      <th>diff</th>\n",
       "    </tr>\n",
       "  </thead>\n",
       "  <tbody>\n",
       "    <tr>\n",
       "      <th>9951</th>\n",
       "      <td>03-06-2020</td>\n",
       "      <td>80.0495</td>\n",
       "      <td>80.4292</td>\n",
       "      <td>79.4676</td>\n",
       "      <td>80.1629</td>\n",
       "      <td>104281476</td>\n",
       "      <td>0</td>\n",
       "      <td>NaN</td>\n",
       "    </tr>\n",
       "    <tr>\n",
       "      <th>9954</th>\n",
       "      <td>08-06-2020</td>\n",
       "      <td>81.4278</td>\n",
       "      <td>82.2538</td>\n",
       "      <td>80.7053</td>\n",
       "      <td>82.2192</td>\n",
       "      <td>95407900</td>\n",
       "      <td>0</td>\n",
       "      <td>1.3783</td>\n",
       "    </tr>\n",
       "    <tr>\n",
       "      <th>9955</th>\n",
       "      <td>09-06-2020</td>\n",
       "      <td>81.8938</td>\n",
       "      <td>85.2150</td>\n",
       "      <td>81.8617</td>\n",
       "      <td>84.8156</td>\n",
       "      <td>147712364</td>\n",
       "      <td>0</td>\n",
       "      <td>0.4660</td>\n",
       "    </tr>\n",
       "    <tr>\n",
       "      <th>9956</th>\n",
       "      <td>10-06-2020</td>\n",
       "      <td>85.7796</td>\n",
       "      <td>87.4735</td>\n",
       "      <td>85.3334</td>\n",
       "      <td>86.9977</td>\n",
       "      <td>165423144</td>\n",
       "      <td>0</td>\n",
       "      <td>3.8858</td>\n",
       "    </tr>\n",
       "    <tr>\n",
       "      <th>9957</th>\n",
       "      <td>11-06-2020</td>\n",
       "      <td>86.1273</td>\n",
       "      <td>86.5588</td>\n",
       "      <td>82.7173</td>\n",
       "      <td>82.8209</td>\n",
       "      <td>198270700</td>\n",
       "      <td>1</td>\n",
       "      <td>0.3477</td>\n",
       "    </tr>\n",
       "  </tbody>\n",
       "</table>\n",
       "</div>"
      ],
      "text/plain": [
       "            date     open     high      low    close     volume  \\\n",
       "9951  03-06-2020  80.0495  80.4292  79.4676  80.1629  104281476   \n",
       "9954  08-06-2020  81.4278  82.2538  80.7053  82.2192   95407900   \n",
       "9955  09-06-2020  81.8938  85.2150  81.8617  84.8156  147712364   \n",
       "9956  10-06-2020  85.7796  87.4735  85.3334  86.9977  165423144   \n",
       "9957  11-06-2020  86.1273  86.5588  82.7173  82.8209  198270700   \n",
       "\n",
       "      profit or not    diff  \n",
       "9951              0     NaN  \n",
       "9954              0  1.3783  \n",
       "9955              0  0.4660  \n",
       "9956              0  3.8858  \n",
       "9957              1  0.3477  "
      ]
     },
     "execution_count": 24,
     "metadata": {},
     "output_type": "execute_result"
    }
   ],
   "source": [
    "df_2019.head()"
   ]
  },
  {
   "cell_type": "code",
   "execution_count": 25,
   "id": "6300a9c9",
   "metadata": {},
   "outputs": [
    {
     "data": {
      "text/plain": [
       "(-26.120694925791724,\n",
       " 0.0,\n",
       " 0,\n",
       " 604,\n",
       " {'1%': -3.4412230283528937,\n",
       "  '5%': -2.8663370524631344,\n",
       "  '10%': -2.5693247196394893},\n",
       " 2928.150952197604)"
      ]
     },
     "execution_count": 25,
     "metadata": {},
     "output_type": "execute_result"
    }
   ],
   "source": [
    "test_result = adfuller(df_2019['diff'].dropna())\n",
    "test_result\n",
    "#here the p-value is 0.0 so, we are successful to convert into stationary data"
   ]
  },
  {
   "cell_type": "code",
   "execution_count": 26,
   "id": "e58e1e56",
   "metadata": {},
   "outputs": [
    {
     "data": {
      "text/plain": [
       "<AxesSubplot:>"
      ]
     },
     "execution_count": 26,
     "metadata": {},
     "output_type": "execute_result"
    },
    {
     "data": {
      "image/png": "[encoded data removed]",
      "text/plain": [
       "<Figure size 432x288 with 1 Axes>"
      ]
     },
     "metadata": {
      "needs_background": "light"
     },
     "output_type": "display_data"
    }
   ],
   "source": [
    "df_2019['diff'].plot() \n",
    "#here we can see the data is almost stationary"
   ]
  },
  {
   "cell_type": "code",
   "execution_count": 27,
   "id": "95a54556",
   "metadata": {},
   "outputs": [
    {
     "data": {
      "text/plain": [
       "<function pandas.plotting._misc.autocorrelation_plot(series, ax=None, **kwargs)>"
      ]
     },
     "execution_count": 27,
     "metadata": {},
     "output_type": "execute_result"
    }
   ],
   "source": [
    "pd.plotting.autocorrelation_plot"
   ]
  },
  {
   "cell_type": "code",
   "execution_count": 28,
   "id": "d7c69124",
   "metadata": {},
   "outputs": [
    {
     "data": {
      "text/plain": [
       "<AxesSubplot:xlabel='Lag', ylabel='Autocorrelation'>"
      ]
     },
     "execution_count": 28,
     "metadata": {},
     "output_type": "execute_result"
    },
    {
     "data": {
      "image/png": "[encoded data removed]",
      "text/plain": [
       "<Figure size 432x288 with 1 Axes>"
      ]
     },
     "metadata": {
      "needs_background": "light"
     },
     "output_type": "display_data"
    }
   ],
   "source": [
    "pd.plotting.autocorrelation_plot(df_2019['close'])"
   ]
  },
  {
   "cell_type": "code",
   "execution_count": null,
   "id": "8e2ee072",
   "metadata": {},
   "outputs": [],
   "source": []
  },
  {
   "cell_type": "code",
   "execution_count": 29,
   "id": "da5b42db",
   "metadata": {},
   "outputs": [
    {
     "data": {
      "text/html": [
       "<div>\n",
       "<style scoped>\n",
       "    .dataframe tbody tr th:only-of-type {\n",
       "        vertical-align: middle;\n",
       "    }\n",
       "\n",
       "    .dataframe tbody tr th {\n",
       "        vertical-align: top;\n",
       "    }\n",
       "\n",
       "    .dataframe thead th {\n",
       "        text-align: right;\n",
       "    }\n",
       "</style>\n",
       "<table border=\"1\" class=\"dataframe\">\n",
       "  <thead>\n",
       "    <tr style=\"text-align: right;\">\n",
       "      <th></th>\n",
       "      <th>date</th>\n",
       "      <th>open</th>\n",
       "      <th>high</th>\n",
       "      <th>low</th>\n",
       "      <th>close</th>\n",
       "      <th>volume</th>\n",
       "      <th>profit or not</th>\n",
       "    </tr>\n",
       "  </thead>\n",
       "  <tbody>\n",
       "    <tr>\n",
       "      <th>0</th>\n",
       "      <td>12-12-1980</td>\n",
       "      <td>0.1003</td>\n",
       "      <td>0.1007</td>\n",
       "      <td>0.1003</td>\n",
       "      <td>0.1003</td>\n",
       "      <td>469033600</td>\n",
       "      <td>0</td>\n",
       "    </tr>\n",
       "    <tr>\n",
       "      <th>1</th>\n",
       "      <td>15-12-1980</td>\n",
       "      <td>0.0955</td>\n",
       "      <td>0.0955</td>\n",
       "      <td>0.0951</td>\n",
       "      <td>0.0951</td>\n",
       "      <td>175884800</td>\n",
       "      <td>1</td>\n",
       "    </tr>\n",
       "    <tr>\n",
       "      <th>2</th>\n",
       "      <td>16-12-1980</td>\n",
       "      <td>0.0885</td>\n",
       "      <td>0.0885</td>\n",
       "      <td>0.0881</td>\n",
       "      <td>0.0881</td>\n",
       "      <td>105728000</td>\n",
       "      <td>1</td>\n",
       "    </tr>\n",
       "    <tr>\n",
       "      <th>3</th>\n",
       "      <td>17-12-1980</td>\n",
       "      <td>0.0902</td>\n",
       "      <td>0.0907</td>\n",
       "      <td>0.0902</td>\n",
       "      <td>0.0902</td>\n",
       "      <td>86441600</td>\n",
       "      <td>0</td>\n",
       "    </tr>\n",
       "    <tr>\n",
       "      <th>4</th>\n",
       "      <td>18-12-1980</td>\n",
       "      <td>0.0929</td>\n",
       "      <td>0.0933</td>\n",
       "      <td>0.0929</td>\n",
       "      <td>0.0929</td>\n",
       "      <td>73449600</td>\n",
       "      <td>0</td>\n",
       "    </tr>\n",
       "    <tr>\n",
       "      <th>5</th>\n",
       "      <td>19-12-1980</td>\n",
       "      <td>0.0985</td>\n",
       "      <td>0.0990</td>\n",
       "      <td>0.0985</td>\n",
       "      <td>0.0985</td>\n",
       "      <td>48630400</td>\n",
       "      <td>0</td>\n",
       "    </tr>\n",
       "    <tr>\n",
       "      <th>6</th>\n",
       "      <td>22-12-1980</td>\n",
       "      <td>0.1034</td>\n",
       "      <td>0.1038</td>\n",
       "      <td>0.1034</td>\n",
       "      <td>0.1034</td>\n",
       "      <td>37363200</td>\n",
       "      <td>0</td>\n",
       "    </tr>\n",
       "    <tr>\n",
       "      <th>7</th>\n",
       "      <td>23-12-1980</td>\n",
       "      <td>0.1077</td>\n",
       "      <td>0.1081</td>\n",
       "      <td>0.1077</td>\n",
       "      <td>0.1077</td>\n",
       "      <td>46950400</td>\n",
       "      <td>0</td>\n",
       "    </tr>\n",
       "    <tr>\n",
       "      <th>8</th>\n",
       "      <td>24-12-1980</td>\n",
       "      <td>0.1134</td>\n",
       "      <td>0.1138</td>\n",
       "      <td>0.1134</td>\n",
       "      <td>0.1134</td>\n",
       "      <td>48003200</td>\n",
       "      <td>0</td>\n",
       "    </tr>\n",
       "    <tr>\n",
       "      <th>9</th>\n",
       "      <td>26-12-1980</td>\n",
       "      <td>0.1238</td>\n",
       "      <td>0.1243</td>\n",
       "      <td>0.1238</td>\n",
       "      <td>0.1238</td>\n",
       "      <td>55574400</td>\n",
       "      <td>0</td>\n",
       "    </tr>\n",
       "    <tr>\n",
       "      <th>10</th>\n",
       "      <td>29-12-1980</td>\n",
       "      <td>0.1256</td>\n",
       "      <td>0.1260</td>\n",
       "      <td>0.1256</td>\n",
       "      <td>0.1256</td>\n",
       "      <td>93161600</td>\n",
       "      <td>0</td>\n",
       "    </tr>\n",
       "    <tr>\n",
       "      <th>11</th>\n",
       "      <td>30-12-1980</td>\n",
       "      <td>0.1230</td>\n",
       "      <td>0.1230</td>\n",
       "      <td>0.1225</td>\n",
       "      <td>0.1225</td>\n",
       "      <td>68880000</td>\n",
       "      <td>1</td>\n",
       "    </tr>\n",
       "    <tr>\n",
       "      <th>12</th>\n",
       "      <td>31-12-1980</td>\n",
       "      <td>0.1195</td>\n",
       "      <td>0.1195</td>\n",
       "      <td>0.1191</td>\n",
       "      <td>0.1191</td>\n",
       "      <td>35750400</td>\n",
       "      <td>1</td>\n",
       "    </tr>\n",
       "    <tr>\n",
       "      <th>13</th>\n",
       "      <td>02-01-1981</td>\n",
       "      <td>0.1203</td>\n",
       "      <td>0.1212</td>\n",
       "      <td>0.1203</td>\n",
       "      <td>0.1203</td>\n",
       "      <td>21660800</td>\n",
       "      <td>0</td>\n",
       "    </tr>\n",
       "    <tr>\n",
       "      <th>14</th>\n",
       "      <td>05-01-1981</td>\n",
       "      <td>0.1181</td>\n",
       "      <td>0.1181</td>\n",
       "      <td>0.1177</td>\n",
       "      <td>0.1177</td>\n",
       "      <td>35728000</td>\n",
       "      <td>1</td>\n",
       "    </tr>\n",
       "    <tr>\n",
       "      <th>15</th>\n",
       "      <td>06-01-1981</td>\n",
       "      <td>0.1129</td>\n",
       "      <td>0.1129</td>\n",
       "      <td>0.1125</td>\n",
       "      <td>0.1125</td>\n",
       "      <td>45158400</td>\n",
       "      <td>1</td>\n",
       "    </tr>\n",
       "    <tr>\n",
       "      <th>16</th>\n",
       "      <td>07-01-1981</td>\n",
       "      <td>0.1081</td>\n",
       "      <td>0.1081</td>\n",
       "      <td>0.1077</td>\n",
       "      <td>0.1077</td>\n",
       "      <td>55686400</td>\n",
       "      <td>1</td>\n",
       "    </tr>\n",
       "    <tr>\n",
       "      <th>17</th>\n",
       "      <td>08-01-1981</td>\n",
       "      <td>0.1059</td>\n",
       "      <td>0.1059</td>\n",
       "      <td>0.1055</td>\n",
       "      <td>0.1055</td>\n",
       "      <td>39827200</td>\n",
       "      <td>1</td>\n",
       "    </tr>\n",
       "    <tr>\n",
       "      <th>18</th>\n",
       "      <td>09-01-1981</td>\n",
       "      <td>0.1112</td>\n",
       "      <td>0.1116</td>\n",
       "      <td>0.1112</td>\n",
       "      <td>0.1112</td>\n",
       "      <td>21504000</td>\n",
       "      <td>0</td>\n",
       "    </tr>\n",
       "    <tr>\n",
       "      <th>19</th>\n",
       "      <td>12-01-1981</td>\n",
       "      <td>0.1112</td>\n",
       "      <td>0.1112</td>\n",
       "      <td>0.1103</td>\n",
       "      <td>0.1103</td>\n",
       "      <td>23699200</td>\n",
       "      <td>1</td>\n",
       "    </tr>\n",
       "  </tbody>\n",
       "</table>\n",
       "</div>"
      ],
      "text/plain": [
       "          date    open    high     low   close     volume  profit or not\n",
       "0   12-12-1980  0.1003  0.1007  0.1003  0.1003  469033600              0\n",
       "1   15-12-1980  0.0955  0.0955  0.0951  0.0951  175884800              1\n",
       "2   16-12-1980  0.0885  0.0885  0.0881  0.0881  105728000              1\n",
       "3   17-12-1980  0.0902  0.0907  0.0902  0.0902   86441600              0\n",
       "4   18-12-1980  0.0929  0.0933  0.0929  0.0929   73449600              0\n",
       "5   19-12-1980  0.0985  0.0990  0.0985  0.0985   48630400              0\n",
       "6   22-12-1980  0.1034  0.1038  0.1034  0.1034   37363200              0\n",
       "7   23-12-1980  0.1077  0.1081  0.1077  0.1077   46950400              0\n",
       "8   24-12-1980  0.1134  0.1138  0.1134  0.1134   48003200              0\n",
       "9   26-12-1980  0.1238  0.1243  0.1238  0.1238   55574400              0\n",
       "10  29-12-1980  0.1256  0.1260  0.1256  0.1256   93161600              0\n",
       "11  30-12-1980  0.1230  0.1230  0.1225  0.1225   68880000              1\n",
       "12  31-12-1980  0.1195  0.1195  0.1191  0.1191   35750400              1\n",
       "13  02-01-1981  0.1203  0.1212  0.1203  0.1203   21660800              0\n",
       "14  05-01-1981  0.1181  0.1181  0.1177  0.1177   35728000              1\n",
       "15  06-01-1981  0.1129  0.1129  0.1125  0.1125   45158400              1\n",
       "16  07-01-1981  0.1081  0.1081  0.1077  0.1077   55686400              1\n",
       "17  08-01-1981  0.1059  0.1059  0.1055  0.1055   39827200              1\n",
       "18  09-01-1981  0.1112  0.1116  0.1112  0.1112   21504000              0\n",
       "19  12-01-1981  0.1112  0.1112  0.1103  0.1103   23699200              1"
      ]
     },
     "execution_count": 29,
     "metadata": {},
     "output_type": "execute_result"
    }
   ],
   "source": [
    "df.head(20)"
   ]
  },
  {
   "cell_type": "code",
   "execution_count": null,
   "id": "b3d8e32d",
   "metadata": {},
   "outputs": [],
   "source": []
  },
  {
   "cell_type": "code",
   "execution_count": 42,
   "id": "71330de0",
   "metadata": {},
   "outputs": [],
   "source": [
    "df_2018 = pd.DataFrame(df[(df['date']>='01-01-2018') & (df['date']<='31-12-2018')])\n",
    "df_2019 = pd.DataFrame(df[(df['date']>='01-01-2019') & (df['date']<='31-12-2019')])\n",
    "df_2020 = pd.DataFrame(df[(df['date']>='01-01-2021') & (df['date']<='31-12-2021')])\n",
    "df_2021 = pd.DataFrame(df[(df['date']>='01-01-2021') & (df['date']<='31-12-2021')])\n",
    "df_2022 = pd.DataFrame(df[(df['date']>='01-01-2022') & (df['date']<='31-12-2022')])\n",
    "\n"
   ]
  },
  {
   "cell_type": "code",
   "execution_count": 43,
   "id": "119024a0",
   "metadata": {},
   "outputs": [],
   "source": [
    "dff = pd.concat([df_2018,df_2019,df_2020,df_2021,df_2022],axis=0)\n",
    "# dff= np.transpose(dff)"
   ]
  },
  {
   "cell_type": "code",
   "execution_count": 45,
   "id": "fa5e0826",
   "metadata": {},
   "outputs": [],
   "source": [
    "dff.set_index('date',inplace=True)"
   ]
  },
  {
   "cell_type": "code",
   "execution_count": 46,
   "id": "9cd23415",
   "metadata": {},
   "outputs": [
    {
     "data": {
      "text/html": [
       "<div>\n",
       "<style scoped>\n",
       "    .dataframe tbody tr th:only-of-type {\n",
       "        vertical-align: middle;\n",
       "    }\n",
       "\n",
       "    .dataframe tbody tr th {\n",
       "        vertical-align: top;\n",
       "    }\n",
       "\n",
       "    .dataframe thead th {\n",
       "        text-align: right;\n",
       "    }\n",
       "</style>\n",
       "<table border=\"1\" class=\"dataframe\">\n",
       "  <thead>\n",
       "    <tr style=\"text-align: right;\">\n",
       "      <th></th>\n",
       "      <th>open</th>\n",
       "      <th>high</th>\n",
       "      <th>low</th>\n",
       "      <th>close</th>\n",
       "      <th>volume</th>\n",
       "      <th>profit or not</th>\n",
       "    </tr>\n",
       "    <tr>\n",
       "      <th>date</th>\n",
       "      <th></th>\n",
       "      <th></th>\n",
       "      <th></th>\n",
       "      <th></th>\n",
       "      <th></th>\n",
       "      <th></th>\n",
       "    </tr>\n",
       "  </thead>\n",
       "  <tbody>\n",
       "    <tr>\n",
       "      <th>2018-02-01</th>\n",
       "      <td>40.5166</td>\n",
       "      <td>41.0262</td>\n",
       "      <td>40.3023</td>\n",
       "      <td>41.0167</td>\n",
       "      <td>102223736</td>\n",
       "      <td>0</td>\n",
       "    </tr>\n",
       "    <tr>\n",
       "      <th>2018-03-01</th>\n",
       "      <td>41.0810</td>\n",
       "      <td>41.5619</td>\n",
       "      <td>40.9452</td>\n",
       "      <td>41.0095</td>\n",
       "      <td>118071596</td>\n",
       "      <td>1</td>\n",
       "    </tr>\n",
       "    <tr>\n",
       "      <th>2018-04-01</th>\n",
       "      <td>41.0833</td>\n",
       "      <td>41.3048</td>\n",
       "      <td>40.9738</td>\n",
       "      <td>41.2000</td>\n",
       "      <td>89738388</td>\n",
       "      <td>0</td>\n",
       "    </tr>\n",
       "    <tr>\n",
       "      <th>2018-05-01</th>\n",
       "      <td>41.2976</td>\n",
       "      <td>41.7572</td>\n",
       "      <td>41.2048</td>\n",
       "      <td>41.6691</td>\n",
       "      <td>94640072</td>\n",
       "      <td>0</td>\n",
       "    </tr>\n",
       "    <tr>\n",
       "      <th>2018-08-01</th>\n",
       "      <td>41.5143</td>\n",
       "      <td>41.8143</td>\n",
       "      <td>41.4143</td>\n",
       "      <td>41.5143</td>\n",
       "      <td>82271064</td>\n",
       "      <td>0</td>\n",
       "    </tr>\n",
       "    <tr>\n",
       "      <th>...</th>\n",
       "      <td>...</td>\n",
       "      <td>...</td>\n",
       "      <td>...</td>\n",
       "      <td>...</td>\n",
       "      <td>...</td>\n",
       "      <td>...</td>\n",
       "    </tr>\n",
       "    <tr>\n",
       "      <th>2022-10-24</th>\n",
       "      <td>147.1850</td>\n",
       "      <td>150.2300</td>\n",
       "      <td>146.0000</td>\n",
       "      <td>149.4500</td>\n",
       "      <td>75569074</td>\n",
       "      <td>0</td>\n",
       "    </tr>\n",
       "    <tr>\n",
       "      <th>2022-10-25</th>\n",
       "      <td>150.0900</td>\n",
       "      <td>152.4900</td>\n",
       "      <td>149.3600</td>\n",
       "      <td>152.3400</td>\n",
       "      <td>73583421</td>\n",
       "      <td>0</td>\n",
       "    </tr>\n",
       "    <tr>\n",
       "      <th>2022-10-26</th>\n",
       "      <td>150.9600</td>\n",
       "      <td>151.9900</td>\n",
       "      <td>148.0400</td>\n",
       "      <td>149.3500</td>\n",
       "      <td>87769611</td>\n",
       "      <td>1</td>\n",
       "    </tr>\n",
       "    <tr>\n",
       "      <th>2022-10-27</th>\n",
       "      <td>148.0700</td>\n",
       "      <td>149.0460</td>\n",
       "      <td>144.1300</td>\n",
       "      <td>144.8000</td>\n",
       "      <td>108110875</td>\n",
       "      <td>1</td>\n",
       "    </tr>\n",
       "    <tr>\n",
       "      <th>2022-10-28</th>\n",
       "      <td>148.2000</td>\n",
       "      <td>157.5000</td>\n",
       "      <td>147.8200</td>\n",
       "      <td>155.7400</td>\n",
       "      <td>162857942</td>\n",
       "      <td>0</td>\n",
       "    </tr>\n",
       "  </tbody>\n",
       "</table>\n",
       "<p>1215 rows × 6 columns</p>\n",
       "</div>"
      ],
      "text/plain": [
       "                open      high       low     close     volume  profit or not\n",
       "date                                                                        \n",
       "2018-02-01   40.5166   41.0262   40.3023   41.0167  102223736              0\n",
       "2018-03-01   41.0810   41.5619   40.9452   41.0095  118071596              1\n",
       "2018-04-01   41.0833   41.3048   40.9738   41.2000   89738388              0\n",
       "2018-05-01   41.2976   41.7572   41.2048   41.6691   94640072              0\n",
       "2018-08-01   41.5143   41.8143   41.4143   41.5143   82271064              0\n",
       "...              ...       ...       ...       ...        ...            ...\n",
       "2022-10-24  147.1850  150.2300  146.0000  149.4500   75569074              0\n",
       "2022-10-25  150.0900  152.4900  149.3600  152.3400   73583421              0\n",
       "2022-10-26  150.9600  151.9900  148.0400  149.3500   87769611              1\n",
       "2022-10-27  148.0700  149.0460  144.1300  144.8000  108110875              1\n",
       "2022-10-28  148.2000  157.5000  147.8200  155.7400  162857942              0\n",
       "\n",
       "[1215 rows x 6 columns]"
      ]
     },
     "execution_count": 46,
     "metadata": {},
     "output_type": "execute_result"
    }
   ],
   "source": [
    "dff"
   ]
  },
  {
   "cell_type": "code",
   "execution_count": 47,
   "id": "f910cbc5",
   "metadata": {},
   "outputs": [
    {
     "data": {
      "text/plain": [
       "<AxesSubplot:xlabel='date'>"
      ]
     },
     "execution_count": 47,
     "metadata": {},
     "output_type": "execute_result"
    },
    {
     "data": {
      "image/png": "[encoded data removed]",
      "text/plain": [
       "<Figure size 432x288 with 1 Axes>"
      ]
     },
     "metadata": {
      "needs_background": "light"
     },
     "output_type": "display_data"
    }
   ],
   "source": [
    "dff.volume.plot()"
   ]
  },
  {
   "cell_type": "code",
   "execution_count": 48,
   "id": "2b51e389",
   "metadata": {},
   "outputs": [
    {
     "data": {
      "text/plain": [
       "<AxesSubplot:xlabel='open'>"
      ]
     },
     "execution_count": 48,
     "metadata": {},
     "output_type": "execute_result"
    },
    {
     "data": {
      "image/png": "[encoded data removed]",
      "text/plain": [
       "<Figure size 432x288 with 1 Axes>"
      ]
     },
     "metadata": {
      "needs_background": "light"
     },
     "output_type": "display_data"
    }
   ],
   "source": [
    "dff.plot('open')"
   ]
  },
  {
   "cell_type": "code",
   "execution_count": 49,
   "id": "eff33b1a",
   "metadata": {},
   "outputs": [],
   "source": [
    "dff_v = pd.DataFrame(dff.volume)"
   ]
  },
  {
   "cell_type": "code",
   "execution_count": 50,
   "id": "e17d4830",
   "metadata": {},
   "outputs": [
    {
     "data": {
      "text/html": [
       "<div>\n",
       "<style scoped>\n",
       "    .dataframe tbody tr th:only-of-type {\n",
       "        vertical-align: middle;\n",
       "    }\n",
       "\n",
       "    .dataframe tbody tr th {\n",
       "        vertical-align: top;\n",
       "    }\n",
       "\n",
       "    .dataframe thead th {\n",
       "        text-align: right;\n",
       "    }\n",
       "</style>\n",
       "<table border=\"1\" class=\"dataframe\">\n",
       "  <thead>\n",
       "    <tr style=\"text-align: right;\">\n",
       "      <th></th>\n",
       "      <th>volume</th>\n",
       "    </tr>\n",
       "    <tr>\n",
       "      <th>date</th>\n",
       "      <th></th>\n",
       "    </tr>\n",
       "  </thead>\n",
       "  <tbody>\n",
       "    <tr>\n",
       "      <th>2018-02-01</th>\n",
       "      <td>102223736</td>\n",
       "    </tr>\n",
       "    <tr>\n",
       "      <th>2018-03-01</th>\n",
       "      <td>118071596</td>\n",
       "    </tr>\n",
       "    <tr>\n",
       "      <th>2018-04-01</th>\n",
       "      <td>89738388</td>\n",
       "    </tr>\n",
       "    <tr>\n",
       "      <th>2018-05-01</th>\n",
       "      <td>94640072</td>\n",
       "    </tr>\n",
       "    <tr>\n",
       "      <th>2018-08-01</th>\n",
       "      <td>82271064</td>\n",
       "    </tr>\n",
       "    <tr>\n",
       "      <th>...</th>\n",
       "      <td>...</td>\n",
       "    </tr>\n",
       "    <tr>\n",
       "      <th>2022-10-24</th>\n",
       "      <td>75569074</td>\n",
       "    </tr>\n",
       "    <tr>\n",
       "      <th>2022-10-25</th>\n",
       "      <td>73583421</td>\n",
       "    </tr>\n",
       "    <tr>\n",
       "      <th>2022-10-26</th>\n",
       "      <td>87769611</td>\n",
       "    </tr>\n",
       "    <tr>\n",
       "      <th>2022-10-27</th>\n",
       "      <td>108110875</td>\n",
       "    </tr>\n",
       "    <tr>\n",
       "      <th>2022-10-28</th>\n",
       "      <td>162857942</td>\n",
       "    </tr>\n",
       "  </tbody>\n",
       "</table>\n",
       "<p>1215 rows × 1 columns</p>\n",
       "</div>"
      ],
      "text/plain": [
       "               volume\n",
       "date                 \n",
       "2018-02-01  102223736\n",
       "2018-03-01  118071596\n",
       "2018-04-01   89738388\n",
       "2018-05-01   94640072\n",
       "2018-08-01   82271064\n",
       "...               ...\n",
       "2022-10-24   75569074\n",
       "2022-10-25   73583421\n",
       "2022-10-26   87769611\n",
       "2022-10-27  108110875\n",
       "2022-10-28  162857942\n",
       "\n",
       "[1215 rows x 1 columns]"
      ]
     },
     "execution_count": 50,
     "metadata": {},
     "output_type": "execute_result"
    }
   ],
   "source": [
    "dff_v"
   ]
  },
  {
   "cell_type": "code",
   "execution_count": 51,
   "id": "e757b9de",
   "metadata": {},
   "outputs": [],
   "source": [
    "df['date'] = pd.to_datetime(df['date'])"
   ]
  },
  {
   "cell_type": "code",
   "execution_count": 52,
   "id": "41504052",
   "metadata": {},
   "outputs": [
    {
     "data": {
      "text/plain": [
       "<AxesSubplot:xlabel='date'>"
      ]
     },
     "execution_count": 52,
     "metadata": {},
     "output_type": "execute_result"
    },
    {
     "data": {
      "image/png": "[encoded data removed]",
      "text/plain": [
       "<Figure size 432x288 with 1 Axes>"
      ]
     },
     "metadata": {
      "needs_background": "light"
     },
     "output_type": "display_data"
    }
   ],
   "source": [
    "dff_v.plot()"
   ]
  },
  {
   "cell_type": "code",
   "execution_count": 53,
   "id": "d8a2c08b",
   "metadata": {},
   "outputs": [
    {
     "data": {
      "text/plain": [
       "(-5.780115850442371,\n",
       " 5.149292791542743e-07,\n",
       " 9,\n",
       " 1205,\n",
       " {'1%': -3.4357884107845953,\n",
       "  '5%': -2.863941528023427,\n",
       "  '10%': -2.56804861503762},\n",
       " 44507.673703249995)"
      ]
     },
     "execution_count": 53,
     "metadata": {},
     "output_type": "execute_result"
    }
   ],
   "source": [
    "test_ = adfuller(dff['volume'])\n",
    "test_"
   ]
  },
  {
   "cell_type": "code",
   "execution_count": 58,
   "id": "884a3fd9",
   "metadata": {},
   "outputs": [],
   "source": [
    "import statsmodels.api as sm"
   ]
  },
  {
   "cell_type": "code",
   "execution_count": 54,
   "id": "2431dee0",
   "metadata": {},
   "outputs": [],
   "source": [
    "from statsmodels.graphics.tsaplots import plot_acf,plot_pacf"
   ]
  },
  {
   "cell_type": "code",
   "execution_count": 60,
   "id": "7ac178ae",
   "metadata": {},
   "outputs": [
    {
     "data": {
      "image/png": "[encoded data removed]",
      "text/plain": [
       "<Figure size 864x576 with 2 Axes>"
      ]
     },
     "metadata": {
      "needs_background": "light"
     },
     "output_type": "display_data"
    }
   ],
   "source": [
    "fig=plt.figure(figsize=(12,8))\n",
    "ax1=fig.add_subplot(211)\n",
    "fig=sm.graphics.tsa.plot_acf(dff['volume'].iloc[2:],lags=40,ax=ax1)\n",
    "ax2=fig.add_subplot(212)\n",
    "fig=sm.graphics.tsa.plot_pacf(dff['volume'].iloc[2:],lags=40,ax=ax2)"
   ]
  },
  {
   "cell_type": "code",
   "execution_count": 62,
   "id": "5d2a052b",
   "metadata": {},
   "outputs": [],
   "source": [
    "from statsmodels.tsa.arima_model import ARIMA"
   ]
  },
  {
   "cell_type": "code",
   "execution_count": 64,
   "id": "00597a73",
   "metadata": {},
   "outputs": [
    {
     "name": "stderr",
     "output_type": "stream",
     "text": [
      "C:\\Anaconda Python\\lib\\site-packages\\statsmodels\\tsa\\base\\tsa_model.py:581: ValueWarning: A date index has been provided, but it has no associated frequency information and so will be ignored when e.g. forecasting.\n",
      "  warnings.warn('A date index has been provided, but it has no'\n",
      "C:\\Anaconda Python\\lib\\site-packages\\statsmodels\\tsa\\base\\tsa_model.py:585: ValueWarning: A date index has been provided, but it is not monotonic and so will be ignored when e.g. forecasting.\n",
      "  warnings.warn('A date index has been provided, but it is not'\n",
      "C:\\Anaconda Python\\lib\\site-packages\\statsmodels\\tsa\\base\\tsa_model.py:581: ValueWarning: A date index has been provided, but it has no associated frequency information and so will be ignored when e.g. forecasting.\n",
      "  warnings.warn('A date index has been provided, but it has no'\n",
      "C:\\Anaconda Python\\lib\\site-packages\\statsmodels\\tsa\\base\\tsa_model.py:585: ValueWarning: A date index has been provided, but it is not monotonic and so will be ignored when e.g. forecasting.\n",
      "  warnings.warn('A date index has been provided, but it is not'\n",
      "C:\\Anaconda Python\\lib\\site-packages\\statsmodels\\tsa\\arima_model.py:472: FutureWarning: \n",
      "statsmodels.tsa.arima_model.ARMA and statsmodels.tsa.arima_model.ARIMA have\n",
      "been deprecated in favor of statsmodels.tsa.arima.model.ARIMA (note the .\n",
      "between arima and model) and\n",
      "statsmodels.tsa.SARIMAX. These will be removed after the 0.12 release.\n",
      "\n",
      "statsmodels.tsa.arima.model.ARIMA makes use of the statespace framework and\n",
      "is both well tested and maintained.\n",
      "\n",
      "To silence this warning and continue using ARMA and ARIMA until they are\n",
      "removed, use:\n",
      "\n",
      "import warnings\n",
      "warnings.filterwarnings('ignore', 'statsmodels.tsa.arima_model.ARMA',\n",
      "                        FutureWarning)\n",
      "warnings.filterwarnings('ignore', 'statsmodels.tsa.arima_model.ARIMA',\n",
      "                        FutureWarning)\n",
      "\n",
      "  warnings.warn(ARIMA_DEPRECATION_WARN, FutureWarning)\n"
     ]
    }
   ],
   "source": [
    "model = ARIMA(dff['volume'],order=(1,1,1))\n",
    "m = model.fit()"
   ]
  },
  {
   "cell_type": "code",
   "execution_count": 65,
   "id": "1b49f8c7",
   "metadata": {},
   "outputs": [
    {
     "data": {
      "text/html": [
       "<table class=\"simpletable\">\n",
       "<caption>ARIMA Model Results</caption>\n",
       "<tr>\n",
       "  <th>Dep. Variable:</th>     <td>D.volume</td>     <th>  No. Observations:  </th>     <td>1214</td>    \n",
       "</tr>\n",
       "<tr>\n",
       "  <th>Model:</th>          <td>ARIMA(1, 1, 1)</td>  <th>  Log Likelihood     </th>  <td>-22704.519</td> \n",
       "</tr>\n",
       "<tr>\n",
       "  <th>Method:</th>             <td>css-mle</td>     <th>  S.D. of innovations</th> <td>32051814.223</td>\n",
       "</tr>\n",
       "<tr>\n",
       "  <th>Date:</th>          <td>Wed, 02 Nov 2022</td> <th>  AIC                </th>   <td>45417.037</td> \n",
       "</tr>\n",
       "<tr>\n",
       "  <th>Time:</th>              <td>10:34:41</td>     <th>  BIC                </th>   <td>45437.444</td> \n",
       "</tr>\n",
       "<tr>\n",
       "  <th>Sample:</th>                <td>1</td>        <th>  HQIC               </th>   <td>45424.720</td> \n",
       "</tr>\n",
       "<tr>\n",
       "  <th></th>                       <td> </td>        <th>                     </th>       <td> </td>     \n",
       "</tr>\n",
       "</table>\n",
       "<table class=\"simpletable\">\n",
       "<tr>\n",
       "         <td></td>           <th>coef</th>     <th>std err</th>      <th>z</th>      <th>P>|z|</th>  <th>[0.025</th>    <th>0.975]</th>  \n",
       "</tr>\n",
       "<tr>\n",
       "  <th>const</th>          <td> 4.995e+04</td> <td> 1.39e+05</td> <td>    0.358</td> <td> 0.720</td> <td>-2.23e+05</td> <td> 3.23e+05</td>\n",
       "</tr>\n",
       "<tr>\n",
       "  <th>ar.L1.D.volume</th> <td>    0.4313</td> <td>    0.041</td> <td>   10.460</td> <td> 0.000</td> <td>    0.350</td> <td>    0.512</td>\n",
       "</tr>\n",
       "<tr>\n",
       "  <th>ma.L1.D.volume</th> <td>   -0.9192</td> <td>    0.024</td> <td>  -37.817</td> <td> 0.000</td> <td>   -0.967</td> <td>   -0.872</td>\n",
       "</tr>\n",
       "</table>\n",
       "<table class=\"simpletable\">\n",
       "<caption>Roots</caption>\n",
       "<tr>\n",
       "    <td></td>   <th>            Real</th>  <th>         Imaginary</th> <th>         Modulus</th>  <th>        Frequency</th>\n",
       "</tr>\n",
       "<tr>\n",
       "  <th>AR.1</th> <td>           2.3186</td> <td>          +0.0000j</td> <td>           2.3186</td> <td>           0.0000</td>\n",
       "</tr>\n",
       "<tr>\n",
       "  <th>MA.1</th> <td>           1.0879</td> <td>          +0.0000j</td> <td>           1.0879</td> <td>           0.0000</td>\n",
       "</tr>\n",
       "</table>"
      ],
      "text/plain": [
       "<class 'statsmodels.iolib.summary.Summary'>\n",
       "\"\"\"\n",
       "                             ARIMA Model Results                              \n",
       "==============================================================================\n",
       "Dep. Variable:               D.volume   No. Observations:                 1214\n",
       "Model:                 ARIMA(1, 1, 1)   Log Likelihood              -22704.519\n",
       "Method:                       css-mle   S.D. of innovations       32051814.223\n",
       "Date:                Wed, 02 Nov 2022   AIC                          45417.037\n",
       "Time:                        10:34:41   BIC                          45437.444\n",
       "Sample:                             1   HQIC                         45424.720\n",
       "                                                                              \n",
       "==================================================================================\n",
       "                     coef    std err          z      P>|z|      [0.025      0.975]\n",
       "----------------------------------------------------------------------------------\n",
       "const           4.995e+04   1.39e+05      0.358      0.720   -2.23e+05    3.23e+05\n",
       "ar.L1.D.volume     0.4313      0.041     10.460      0.000       0.350       0.512\n",
       "ma.L1.D.volume    -0.9192      0.024    -37.817      0.000      -0.967      -0.872\n",
       "                                    Roots                                    \n",
       "=============================================================================\n",
       "                  Real          Imaginary           Modulus         Frequency\n",
       "-----------------------------------------------------------------------------\n",
       "AR.1            2.3186           +0.0000j            2.3186            0.0000\n",
       "MA.1            1.0879           +0.0000j            1.0879            0.0000\n",
       "-----------------------------------------------------------------------------\n",
       "\"\"\""
      ]
     },
     "execution_count": 65,
     "metadata": {},
     "output_type": "execute_result"
    }
   ],
   "source": [
    "m.summary()"
   ]
  },
  {
   "cell_type": "code",
   "execution_count": null,
   "id": "d8ba1aff",
   "metadata": {},
   "outputs": [],
   "source": []
  },
  {
   "cell_type": "code",
   "execution_count": null,
   "id": "a9211253",
   "metadata": {},
   "outputs": [],
   "source": []
  },
  {
   "cell_type": "code",
   "execution_count": null,
   "id": "af3024ef",
   "metadata": {},
   "outputs": [],
   "source": []
  },
  {
   "cell_type": "code",
   "execution_count": 81,
   "id": "183ac811",
   "metadata": {},
   "outputs": [
    {
     "data": {
      "text/plain": [
       "<AxesSubplot:xlabel='date'>"
      ]
     },
     "execution_count": 81,
     "metadata": {},
     "output_type": "execute_result"
    },
    {
     "data": {
      "image/png": "[encoded data removed]",
      "text/plain": [
       "<Figure size 864x576 with 1 Axes>"
      ]
     },
     "metadata": {
      "needs_background": "light"
     },
     "output_type": "display_data"
    }
   ],
   "source": [
    "dff['forecast'] = m.predict(start=1100,end=1200,dynamic=True)\n",
    "dff[['volume','forecast']].plot(figsize=(12,8))"
   ]
  },
  {
   "cell_type": "code",
   "execution_count": 85,
   "id": "b10baa14",
   "metadata": {},
   "outputs": [
    {
     "data": {
      "text/plain": [
       "<statsmodels.tsa.statespace.sarimax.SARIMAXResultsWrapper at 0x2ae8020aa30>"
      ]
     },
     "execution_count": 85,
     "metadata": {},
     "output_type": "execute_result"
    }
   ],
   "source": [
    "model = sm.tsa.statespace.SARIMAX(df['volume'],order=(1,1,1),seasonal_order = (1,1,0,2))\n",
    "result = model.fit()\n",
    "result"
   ]
  },
  {
   "cell_type": "code",
   "execution_count": 84,
   "id": "973caa8f",
   "metadata": {},
   "outputs": [
    {
     "data": {
      "text/plain": [
       "<AxesSubplot:xlabel='date'>"
      ]
     },
     "execution_count": 84,
     "metadata": {},
     "output_type": "execute_result"
    },
    {
     "data": {
      "image/png": "[encoded data removed]",
      "text/plain": [
       "<Figure size 864x576 with 1 Axes>"
      ]
     },
     "metadata": {
      "needs_background": "light"
     },
     "output_type": "display_data"
    }
   ],
   "source": [
    "dff['forecast'] = result.predict(start=1100,end=1200,dynamic=True)\n",
    "dff[['volume','forecast']].plot(figsize=(12,8))"
   ]
  },
  {
   "cell_type": "code",
   "execution_count": null,
   "id": "133d46fb",
   "metadata": {},
   "outputs": [],
   "source": []
  }
 ],
 "metadata": {
  "kernelspec": {
   "display_name": "Python 3",
   "language": "python",
   "name": "python3"
  },
  "language_info": {
   "codemirror_mode": {
    "name": "ipython",
    "version": 3
   },
   "file_extension": ".py",
   "mimetype": "text/x-python",
   "name": "python",
   "nbconvert_exporter": "python",
   "pygments_lexer": "ipython3",
   "version": "3.8.8"
  }
 },
 "nbformat": 4,
 "nbformat_minor": 5
}
