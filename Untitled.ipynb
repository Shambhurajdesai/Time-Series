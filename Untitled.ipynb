{
 "cells": [
  {
   "cell_type": "code",
   "execution_count": 73,
   "id": "b6d62d83",
   "metadata": {},
   "outputs": [],
   "source": [
    "import pandas as pd\n",
    "import numpy as np\n",
    "import matplotlib.pyplot as plt\n",
    "import datetime as datetime\n",
    "import datetime as timedelta\n"
   ]
  },
  {
   "cell_type": "code",
   "execution_count": 7,
   "id": "3c602d24",
   "metadata": {},
   "outputs": [
    {
     "data": {
      "text/html": [
       "<div>\n",
       "<style scoped>\n",
       "    .dataframe tbody tr th:only-of-type {\n",
       "        vertical-align: middle;\n",
       "    }\n",
       "\n",
       "    .dataframe tbody tr th {\n",
       "        vertical-align: top;\n",
       "    }\n",
       "\n",
       "    .dataframe thead th {\n",
       "        text-align: right;\n",
       "    }\n",
       "</style>\n",
       "<table border=\"1\" class=\"dataframe\">\n",
       "  <thead>\n",
       "    <tr style=\"text-align: right;\">\n",
       "      <th></th>\n",
       "      <th>date</th>\n",
       "      <th>open</th>\n",
       "      <th>high</th>\n",
       "      <th>low</th>\n",
       "      <th>close</th>\n",
       "      <th>volume</th>\n",
       "      <th>profit or not</th>\n",
       "    </tr>\n",
       "  </thead>\n",
       "  <tbody>\n",
       "    <tr>\n",
       "      <th>0</th>\n",
       "      <td>12-12-1980</td>\n",
       "      <td>0.1003</td>\n",
       "      <td>0.1007</td>\n",
       "      <td>0.1003</td>\n",
       "      <td>0.1003</td>\n",
       "      <td>469033600</td>\n",
       "      <td>0</td>\n",
       "    </tr>\n",
       "    <tr>\n",
       "      <th>1</th>\n",
       "      <td>15-12-1980</td>\n",
       "      <td>0.0955</td>\n",
       "      <td>0.0955</td>\n",
       "      <td>0.0951</td>\n",
       "      <td>0.0951</td>\n",
       "      <td>175884800</td>\n",
       "      <td>1</td>\n",
       "    </tr>\n",
       "    <tr>\n",
       "      <th>2</th>\n",
       "      <td>16-12-1980</td>\n",
       "      <td>0.0885</td>\n",
       "      <td>0.0885</td>\n",
       "      <td>0.0881</td>\n",
       "      <td>0.0881</td>\n",
       "      <td>105728000</td>\n",
       "      <td>1</td>\n",
       "    </tr>\n",
       "    <tr>\n",
       "      <th>3</th>\n",
       "      <td>17-12-1980</td>\n",
       "      <td>0.0902</td>\n",
       "      <td>0.0907</td>\n",
       "      <td>0.0902</td>\n",
       "      <td>0.0902</td>\n",
       "      <td>86441600</td>\n",
       "      <td>0</td>\n",
       "    </tr>\n",
       "    <tr>\n",
       "      <th>4</th>\n",
       "      <td>18-12-1980</td>\n",
       "      <td>0.0929</td>\n",
       "      <td>0.0933</td>\n",
       "      <td>0.0929</td>\n",
       "      <td>0.0929</td>\n",
       "      <td>73449600</td>\n",
       "      <td>0</td>\n",
       "    </tr>\n",
       "  </tbody>\n",
       "</table>\n",
       "</div>"
      ],
      "text/plain": [
       "         date    open    high     low   close     volume  profit or not\n",
       "0  12-12-1980  0.1003  0.1007  0.1003  0.1003  469033600              0\n",
       "1  15-12-1980  0.0955  0.0955  0.0951  0.0951  175884800              1\n",
       "2  16-12-1980  0.0885  0.0885  0.0881  0.0881  105728000              1\n",
       "3  17-12-1980  0.0902  0.0907  0.0902  0.0902   86441600              0\n",
       "4  18-12-1980  0.0929  0.0933  0.0929  0.0929   73449600              0"
      ]
     },
     "execution_count": 7,
     "metadata": {},
     "output_type": "execute_result"
    }
   ],
   "source": [
    "df = pd.read_csv('D:/apple.csv')\n",
    "df.head()"
   ]
  },
  {
   "cell_type": "code",
   "execution_count": 8,
   "id": "d8f8825e",
   "metadata": {},
   "outputs": [
    {
     "data": {
      "text/html": [
       "<div>\n",
       "<style scoped>\n",
       "    .dataframe tbody tr th:only-of-type {\n",
       "        vertical-align: middle;\n",
       "    }\n",
       "\n",
       "    .dataframe tbody tr th {\n",
       "        vertical-align: top;\n",
       "    }\n",
       "\n",
       "    .dataframe thead th {\n",
       "        text-align: right;\n",
       "    }\n",
       "</style>\n",
       "<table border=\"1\" class=\"dataframe\">\n",
       "  <thead>\n",
       "    <tr style=\"text-align: right;\">\n",
       "      <th></th>\n",
       "      <th>date</th>\n",
       "      <th>open</th>\n",
       "      <th>high</th>\n",
       "      <th>low</th>\n",
       "      <th>close</th>\n",
       "      <th>volume</th>\n",
       "      <th>profit or not</th>\n",
       "    </tr>\n",
       "  </thead>\n",
       "  <tbody>\n",
       "    <tr>\n",
       "      <th>10554</th>\n",
       "      <td>24-10-2022</td>\n",
       "      <td>147.185</td>\n",
       "      <td>150.230</td>\n",
       "      <td>146.00</td>\n",
       "      <td>149.45</td>\n",
       "      <td>75569074</td>\n",
       "      <td>0</td>\n",
       "    </tr>\n",
       "    <tr>\n",
       "      <th>10555</th>\n",
       "      <td>25-10-2022</td>\n",
       "      <td>150.090</td>\n",
       "      <td>152.490</td>\n",
       "      <td>149.36</td>\n",
       "      <td>152.34</td>\n",
       "      <td>73583421</td>\n",
       "      <td>0</td>\n",
       "    </tr>\n",
       "    <tr>\n",
       "      <th>10556</th>\n",
       "      <td>26-10-2022</td>\n",
       "      <td>150.960</td>\n",
       "      <td>151.990</td>\n",
       "      <td>148.04</td>\n",
       "      <td>149.35</td>\n",
       "      <td>87769611</td>\n",
       "      <td>1</td>\n",
       "    </tr>\n",
       "    <tr>\n",
       "      <th>10557</th>\n",
       "      <td>27-10-2022</td>\n",
       "      <td>148.070</td>\n",
       "      <td>149.046</td>\n",
       "      <td>144.13</td>\n",
       "      <td>144.80</td>\n",
       "      <td>108110875</td>\n",
       "      <td>1</td>\n",
       "    </tr>\n",
       "    <tr>\n",
       "      <th>10558</th>\n",
       "      <td>28-10-2022</td>\n",
       "      <td>148.200</td>\n",
       "      <td>157.500</td>\n",
       "      <td>147.82</td>\n",
       "      <td>155.74</td>\n",
       "      <td>162857942</td>\n",
       "      <td>0</td>\n",
       "    </tr>\n",
       "  </tbody>\n",
       "</table>\n",
       "</div>"
      ],
      "text/plain": [
       "             date     open     high     low   close     volume  profit or not\n",
       "10554  24-10-2022  147.185  150.230  146.00  149.45   75569074              0\n",
       "10555  25-10-2022  150.090  152.490  149.36  152.34   73583421              0\n",
       "10556  26-10-2022  150.960  151.990  148.04  149.35   87769611              1\n",
       "10557  27-10-2022  148.070  149.046  144.13  144.80  108110875              1\n",
       "10558  28-10-2022  148.200  157.500  147.82  155.74  162857942              0"
      ]
     },
     "execution_count": 8,
     "metadata": {},
     "output_type": "execute_result"
    }
   ],
   "source": [
    "df.tail()"
   ]
  },
  {
   "cell_type": "code",
   "execution_count": 19,
   "id": "8a254260",
   "metadata": {},
   "outputs": [
    {
     "data": {
      "text/html": [
       "<div>\n",
       "<style scoped>\n",
       "    .dataframe tbody tr th:only-of-type {\n",
       "        vertical-align: middle;\n",
       "    }\n",
       "\n",
       "    .dataframe tbody tr th {\n",
       "        vertical-align: top;\n",
       "    }\n",
       "\n",
       "    .dataframe thead th {\n",
       "        text-align: right;\n",
       "    }\n",
       "</style>\n",
       "<table border=\"1\" class=\"dataframe\">\n",
       "  <thead>\n",
       "    <tr style=\"text-align: right;\">\n",
       "      <th></th>\n",
       "      <th>open</th>\n",
       "      <th>high</th>\n",
       "      <th>low</th>\n",
       "      <th>close</th>\n",
       "      <th>volume</th>\n",
       "      <th>profit or not</th>\n",
       "    </tr>\n",
       "    <tr>\n",
       "      <th>date</th>\n",
       "      <th></th>\n",
       "      <th></th>\n",
       "      <th></th>\n",
       "      <th></th>\n",
       "      <th></th>\n",
       "      <th></th>\n",
       "    </tr>\n",
       "  </thead>\n",
       "  <tbody>\n",
       "    <tr>\n",
       "      <th>12-12-1980</th>\n",
       "      <td>0.1003</td>\n",
       "      <td>0.1007</td>\n",
       "      <td>0.1003</td>\n",
       "      <td>0.1003</td>\n",
       "      <td>469033600</td>\n",
       "      <td>0</td>\n",
       "    </tr>\n",
       "    <tr>\n",
       "      <th>15-12-1980</th>\n",
       "      <td>0.0955</td>\n",
       "      <td>0.0955</td>\n",
       "      <td>0.0951</td>\n",
       "      <td>0.0951</td>\n",
       "      <td>175884800</td>\n",
       "      <td>1</td>\n",
       "    </tr>\n",
       "    <tr>\n",
       "      <th>16-12-1980</th>\n",
       "      <td>0.0885</td>\n",
       "      <td>0.0885</td>\n",
       "      <td>0.0881</td>\n",
       "      <td>0.0881</td>\n",
       "      <td>105728000</td>\n",
       "      <td>1</td>\n",
       "    </tr>\n",
       "    <tr>\n",
       "      <th>17-12-1980</th>\n",
       "      <td>0.0902</td>\n",
       "      <td>0.0907</td>\n",
       "      <td>0.0902</td>\n",
       "      <td>0.0902</td>\n",
       "      <td>86441600</td>\n",
       "      <td>0</td>\n",
       "    </tr>\n",
       "    <tr>\n",
       "      <th>18-12-1980</th>\n",
       "      <td>0.0929</td>\n",
       "      <td>0.0933</td>\n",
       "      <td>0.0929</td>\n",
       "      <td>0.0929</td>\n",
       "      <td>73449600</td>\n",
       "      <td>0</td>\n",
       "    </tr>\n",
       "    <tr>\n",
       "      <th>...</th>\n",
       "      <td>...</td>\n",
       "      <td>...</td>\n",
       "      <td>...</td>\n",
       "      <td>...</td>\n",
       "      <td>...</td>\n",
       "      <td>...</td>\n",
       "    </tr>\n",
       "    <tr>\n",
       "      <th>24-10-2022</th>\n",
       "      <td>147.1850</td>\n",
       "      <td>150.2300</td>\n",
       "      <td>146.0000</td>\n",
       "      <td>149.4500</td>\n",
       "      <td>75569074</td>\n",
       "      <td>0</td>\n",
       "    </tr>\n",
       "    <tr>\n",
       "      <th>25-10-2022</th>\n",
       "      <td>150.0900</td>\n",
       "      <td>152.4900</td>\n",
       "      <td>149.3600</td>\n",
       "      <td>152.3400</td>\n",
       "      <td>73583421</td>\n",
       "      <td>0</td>\n",
       "    </tr>\n",
       "    <tr>\n",
       "      <th>26-10-2022</th>\n",
       "      <td>150.9600</td>\n",
       "      <td>151.9900</td>\n",
       "      <td>148.0400</td>\n",
       "      <td>149.3500</td>\n",
       "      <td>87769611</td>\n",
       "      <td>1</td>\n",
       "    </tr>\n",
       "    <tr>\n",
       "      <th>27-10-2022</th>\n",
       "      <td>148.0700</td>\n",
       "      <td>149.0460</td>\n",
       "      <td>144.1300</td>\n",
       "      <td>144.8000</td>\n",
       "      <td>108110875</td>\n",
       "      <td>1</td>\n",
       "    </tr>\n",
       "    <tr>\n",
       "      <th>28-10-2022</th>\n",
       "      <td>148.2000</td>\n",
       "      <td>157.5000</td>\n",
       "      <td>147.8200</td>\n",
       "      <td>155.7400</td>\n",
       "      <td>162857942</td>\n",
       "      <td>0</td>\n",
       "    </tr>\n",
       "  </tbody>\n",
       "</table>\n",
       "<p>10559 rows × 6 columns</p>\n",
       "</div>"
      ],
      "text/plain": [
       "                open      high       low     close     volume  profit or not\n",
       "date                                                                        \n",
       "12-12-1980    0.1003    0.1007    0.1003    0.1003  469033600              0\n",
       "15-12-1980    0.0955    0.0955    0.0951    0.0951  175884800              1\n",
       "16-12-1980    0.0885    0.0885    0.0881    0.0881  105728000              1\n",
       "17-12-1980    0.0902    0.0907    0.0902    0.0902   86441600              0\n",
       "18-12-1980    0.0929    0.0933    0.0929    0.0929   73449600              0\n",
       "...              ...       ...       ...       ...        ...            ...\n",
       "24-10-2022  147.1850  150.2300  146.0000  149.4500   75569074              0\n",
       "25-10-2022  150.0900  152.4900  149.3600  152.3400   73583421              0\n",
       "26-10-2022  150.9600  151.9900  148.0400  149.3500   87769611              1\n",
       "27-10-2022  148.0700  149.0460  144.1300  144.8000  108110875              1\n",
       "28-10-2022  148.2000  157.5000  147.8200  155.7400  162857942              0\n",
       "\n",
       "[10559 rows x 6 columns]"
      ]
     },
     "execution_count": 19,
     "metadata": {},
     "output_type": "execute_result"
    }
   ],
   "source": [
    "df"
   ]
  },
  {
   "cell_type": "code",
   "execution_count": 25,
   "id": "fdb0cc2a",
   "metadata": {},
   "outputs": [
    {
     "data": {
      "text/html": [
       "<div>\n",
       "<style scoped>\n",
       "    .dataframe tbody tr th:only-of-type {\n",
       "        vertical-align: middle;\n",
       "    }\n",
       "\n",
       "    .dataframe tbody tr th {\n",
       "        vertical-align: top;\n",
       "    }\n",
       "\n",
       "    .dataframe thead th {\n",
       "        text-align: right;\n",
       "    }\n",
       "</style>\n",
       "<table border=\"1\" class=\"dataframe\">\n",
       "  <thead>\n",
       "    <tr style=\"text-align: right;\">\n",
       "      <th></th>\n",
       "      <th>close</th>\n",
       "    </tr>\n",
       "    <tr>\n",
       "      <th>date</th>\n",
       "      <th></th>\n",
       "    </tr>\n",
       "  </thead>\n",
       "  <tbody>\n",
       "    <tr>\n",
       "      <th>12-12-1980</th>\n",
       "      <td>0.1003</td>\n",
       "    </tr>\n",
       "    <tr>\n",
       "      <th>15-12-1980</th>\n",
       "      <td>0.0951</td>\n",
       "    </tr>\n",
       "    <tr>\n",
       "      <th>16-12-1980</th>\n",
       "      <td>0.0881</td>\n",
       "    </tr>\n",
       "    <tr>\n",
       "      <th>17-12-1980</th>\n",
       "      <td>0.0902</td>\n",
       "    </tr>\n",
       "    <tr>\n",
       "      <th>18-12-1980</th>\n",
       "      <td>0.0929</td>\n",
       "    </tr>\n",
       "    <tr>\n",
       "      <th>...</th>\n",
       "      <td>...</td>\n",
       "    </tr>\n",
       "    <tr>\n",
       "      <th>24-10-2022</th>\n",
       "      <td>149.4500</td>\n",
       "    </tr>\n",
       "    <tr>\n",
       "      <th>25-10-2022</th>\n",
       "      <td>152.3400</td>\n",
       "    </tr>\n",
       "    <tr>\n",
       "      <th>26-10-2022</th>\n",
       "      <td>149.3500</td>\n",
       "    </tr>\n",
       "    <tr>\n",
       "      <th>27-10-2022</th>\n",
       "      <td>144.8000</td>\n",
       "    </tr>\n",
       "    <tr>\n",
       "      <th>28-10-2022</th>\n",
       "      <td>155.7400</td>\n",
       "    </tr>\n",
       "  </tbody>\n",
       "</table>\n",
       "<p>10559 rows × 1 columns</p>\n",
       "</div>"
      ],
      "text/plain": [
       "               close\n",
       "date                \n",
       "12-12-1980    0.1003\n",
       "15-12-1980    0.0951\n",
       "16-12-1980    0.0881\n",
       "17-12-1980    0.0902\n",
       "18-12-1980    0.0929\n",
       "...              ...\n",
       "24-10-2022  149.4500\n",
       "25-10-2022  152.3400\n",
       "26-10-2022  149.3500\n",
       "27-10-2022  144.8000\n",
       "28-10-2022  155.7400\n",
       "\n",
       "[10559 rows x 1 columns]"
      ]
     },
     "execution_count": 25,
     "metadata": {},
     "output_type": "execute_result"
    }
   ],
   "source": [
    "df_1= pd.DataFrame(df.close)\n",
    "df_1"
   ]
  },
  {
   "cell_type": "code",
   "execution_count": 26,
   "id": "968ffde8",
   "metadata": {},
   "outputs": [
    {
     "data": {
      "text/plain": [
       "<AxesSubplot:xlabel='date'>"
      ]
     },
     "execution_count": 26,
     "metadata": {},
     "output_type": "execute_result"
    },
    {
     "data": {
      "image/png": "[encoded data removed]",
      "text/plain": [
       "<Figure size 432x288 with 1 Axes>"
      ]
     },
     "metadata": {
      "needs_background": "light"
     },
     "output_type": "display_data"
    }
   ],
   "source": [
    "df_1.plot()"
   ]
  },
  {
   "cell_type": "code",
   "execution_count": 27,
   "id": "45955a9f",
   "metadata": {},
   "outputs": [
    {
     "data": {
      "text/html": [
       "<div>\n",
       "<style scoped>\n",
       "    .dataframe tbody tr th:only-of-type {\n",
       "        vertical-align: middle;\n",
       "    }\n",
       "\n",
       "    .dataframe tbody tr th {\n",
       "        vertical-align: top;\n",
       "    }\n",
       "\n",
       "    .dataframe thead th {\n",
       "        text-align: right;\n",
       "    }\n",
       "</style>\n",
       "<table border=\"1\" class=\"dataframe\">\n",
       "  <thead>\n",
       "    <tr style=\"text-align: right;\">\n",
       "      <th></th>\n",
       "      <th>open</th>\n",
       "    </tr>\n",
       "    <tr>\n",
       "      <th>date</th>\n",
       "      <th></th>\n",
       "    </tr>\n",
       "  </thead>\n",
       "  <tbody>\n",
       "    <tr>\n",
       "      <th>12-12-1980</th>\n",
       "      <td>0.1003</td>\n",
       "    </tr>\n",
       "    <tr>\n",
       "      <th>15-12-1980</th>\n",
       "      <td>0.0955</td>\n",
       "    </tr>\n",
       "    <tr>\n",
       "      <th>16-12-1980</th>\n",
       "      <td>0.0885</td>\n",
       "    </tr>\n",
       "    <tr>\n",
       "      <th>17-12-1980</th>\n",
       "      <td>0.0902</td>\n",
       "    </tr>\n",
       "    <tr>\n",
       "      <th>18-12-1980</th>\n",
       "      <td>0.0929</td>\n",
       "    </tr>\n",
       "    <tr>\n",
       "      <th>...</th>\n",
       "      <td>...</td>\n",
       "    </tr>\n",
       "    <tr>\n",
       "      <th>24-10-2022</th>\n",
       "      <td>147.1850</td>\n",
       "    </tr>\n",
       "    <tr>\n",
       "      <th>25-10-2022</th>\n",
       "      <td>150.0900</td>\n",
       "    </tr>\n",
       "    <tr>\n",
       "      <th>26-10-2022</th>\n",
       "      <td>150.9600</td>\n",
       "    </tr>\n",
       "    <tr>\n",
       "      <th>27-10-2022</th>\n",
       "      <td>148.0700</td>\n",
       "    </tr>\n",
       "    <tr>\n",
       "      <th>28-10-2022</th>\n",
       "      <td>148.2000</td>\n",
       "    </tr>\n",
       "  </tbody>\n",
       "</table>\n",
       "<p>10559 rows × 1 columns</p>\n",
       "</div>"
      ],
      "text/plain": [
       "                open\n",
       "date                \n",
       "12-12-1980    0.1003\n",
       "15-12-1980    0.0955\n",
       "16-12-1980    0.0885\n",
       "17-12-1980    0.0902\n",
       "18-12-1980    0.0929\n",
       "...              ...\n",
       "24-10-2022  147.1850\n",
       "25-10-2022  150.0900\n",
       "26-10-2022  150.9600\n",
       "27-10-2022  148.0700\n",
       "28-10-2022  148.2000\n",
       "\n",
       "[10559 rows x 1 columns]"
      ]
     },
     "execution_count": 27,
     "metadata": {},
     "output_type": "execute_result"
    }
   ],
   "source": [
    "df_2 = pd.DataFrame(df.open)\n",
    "df_2\n"
   ]
  },
  {
   "cell_type": "code",
   "execution_count": 28,
   "id": "d8ee62da",
   "metadata": {},
   "outputs": [
    {
     "data": {
      "text/plain": [
       "<AxesSubplot:xlabel='date'>"
      ]
     },
     "execution_count": 28,
     "metadata": {},
     "output_type": "execute_result"
    },
    {
     "data": {
      "image/png": "[encoded data removed]",
      "text/plain": [
       "<Figure size 432x288 with 1 Axes>"
      ]
     },
     "metadata": {
      "needs_background": "light"
     },
     "output_type": "display_data"
    }
   ],
   "source": [
    "df_2.plot()"
   ]
  },
  {
   "cell_type": "code",
   "execution_count": 30,
   "id": "ce30d371",
   "metadata": {},
   "outputs": [],
   "source": [
    "df_ = df[(df['close']>1) & (df['open']>1)]"
   ]
  },
  {
   "cell_type": "code",
   "execution_count": 31,
   "id": "601897f8",
   "metadata": {},
   "outputs": [
    {
     "data": {
      "text/html": [
       "<div>\n",
       "<style scoped>\n",
       "    .dataframe tbody tr th:only-of-type {\n",
       "        vertical-align: middle;\n",
       "    }\n",
       "\n",
       "    .dataframe tbody tr th {\n",
       "        vertical-align: top;\n",
       "    }\n",
       "\n",
       "    .dataframe thead th {\n",
       "        text-align: right;\n",
       "    }\n",
       "</style>\n",
       "<table border=\"1\" class=\"dataframe\">\n",
       "  <thead>\n",
       "    <tr style=\"text-align: right;\">\n",
       "      <th></th>\n",
       "      <th>open</th>\n",
       "      <th>high</th>\n",
       "      <th>low</th>\n",
       "      <th>close</th>\n",
       "      <th>volume</th>\n",
       "      <th>profit or not</th>\n",
       "    </tr>\n",
       "    <tr>\n",
       "      <th>date</th>\n",
       "      <th></th>\n",
       "      <th></th>\n",
       "      <th></th>\n",
       "      <th></th>\n",
       "      <th></th>\n",
       "      <th></th>\n",
       "    </tr>\n",
       "  </thead>\n",
       "  <tbody>\n",
       "    <tr>\n",
       "      <th>22-03-2000</th>\n",
       "      <td>1.0121</td>\n",
       "      <td>1.1006</td>\n",
       "      <td>1.0028</td>\n",
       "      <td>1.0991</td>\n",
       "      <td>567996800</td>\n",
       "      <td>0</td>\n",
       "    </tr>\n",
       "    <tr>\n",
       "      <th>23-03-2000</th>\n",
       "      <td>1.0824</td>\n",
       "      <td>1.1463</td>\n",
       "      <td>1.0672</td>\n",
       "      <td>1.0771</td>\n",
       "      <td>562564800</td>\n",
       "      <td>1</td>\n",
       "    </tr>\n",
       "    <tr>\n",
       "      <th>24-03-2000</th>\n",
       "      <td>1.0858</td>\n",
       "      <td>1.0972</td>\n",
       "      <td>1.0329</td>\n",
       "      <td>1.0572</td>\n",
       "      <td>446913600</td>\n",
       "      <td>1</td>\n",
       "    </tr>\n",
       "    <tr>\n",
       "      <th>27-03-2000</th>\n",
       "      <td>1.0491</td>\n",
       "      <td>1.1034</td>\n",
       "      <td>1.0434</td>\n",
       "      <td>1.0638</td>\n",
       "      <td>279182400</td>\n",
       "      <td>0</td>\n",
       "    </tr>\n",
       "    <tr>\n",
       "      <th>28-03-2000</th>\n",
       "      <td>1.0462</td>\n",
       "      <td>1.0824</td>\n",
       "      <td>1.0453</td>\n",
       "      <td>1.0605</td>\n",
       "      <td>202966400</td>\n",
       "      <td>0</td>\n",
       "    </tr>\n",
       "    <tr>\n",
       "      <th>...</th>\n",
       "      <td>...</td>\n",
       "      <td>...</td>\n",
       "      <td>...</td>\n",
       "      <td>...</td>\n",
       "      <td>...</td>\n",
       "      <td>...</td>\n",
       "    </tr>\n",
       "    <tr>\n",
       "      <th>24-10-2022</th>\n",
       "      <td>147.1850</td>\n",
       "      <td>150.2300</td>\n",
       "      <td>146.0000</td>\n",
       "      <td>149.4500</td>\n",
       "      <td>75569074</td>\n",
       "      <td>0</td>\n",
       "    </tr>\n",
       "    <tr>\n",
       "      <th>25-10-2022</th>\n",
       "      <td>150.0900</td>\n",
       "      <td>152.4900</td>\n",
       "      <td>149.3600</td>\n",
       "      <td>152.3400</td>\n",
       "      <td>73583421</td>\n",
       "      <td>0</td>\n",
       "    </tr>\n",
       "    <tr>\n",
       "      <th>26-10-2022</th>\n",
       "      <td>150.9600</td>\n",
       "      <td>151.9900</td>\n",
       "      <td>148.0400</td>\n",
       "      <td>149.3500</td>\n",
       "      <td>87769611</td>\n",
       "      <td>1</td>\n",
       "    </tr>\n",
       "    <tr>\n",
       "      <th>27-10-2022</th>\n",
       "      <td>148.0700</td>\n",
       "      <td>149.0460</td>\n",
       "      <td>144.1300</td>\n",
       "      <td>144.8000</td>\n",
       "      <td>108110875</td>\n",
       "      <td>1</td>\n",
       "    </tr>\n",
       "    <tr>\n",
       "      <th>28-10-2022</th>\n",
       "      <td>148.2000</td>\n",
       "      <td>157.5000</td>\n",
       "      <td>147.8200</td>\n",
       "      <td>155.7400</td>\n",
       "      <td>162857942</td>\n",
       "      <td>0</td>\n",
       "    </tr>\n",
       "  </tbody>\n",
       "</table>\n",
       "<p>4492 rows × 6 columns</p>\n",
       "</div>"
      ],
      "text/plain": [
       "                open      high       low     close     volume  profit or not\n",
       "date                                                                        \n",
       "22-03-2000    1.0121    1.1006    1.0028    1.0991  567996800              0\n",
       "23-03-2000    1.0824    1.1463    1.0672    1.0771  562564800              1\n",
       "24-03-2000    1.0858    1.0972    1.0329    1.0572  446913600              1\n",
       "27-03-2000    1.0491    1.1034    1.0434    1.0638  279182400              0\n",
       "28-03-2000    1.0462    1.0824    1.0453    1.0605  202966400              0\n",
       "...              ...       ...       ...       ...        ...            ...\n",
       "24-10-2022  147.1850  150.2300  146.0000  149.4500   75569074              0\n",
       "25-10-2022  150.0900  152.4900  149.3600  152.3400   73583421              0\n",
       "26-10-2022  150.9600  151.9900  148.0400  149.3500   87769611              1\n",
       "27-10-2022  148.0700  149.0460  144.1300  144.8000  108110875              1\n",
       "28-10-2022  148.2000  157.5000  147.8200  155.7400  162857942              0\n",
       "\n",
       "[4492 rows x 6 columns]"
      ]
     },
     "execution_count": 31,
     "metadata": {},
     "output_type": "execute_result"
    }
   ],
   "source": [
    "df_"
   ]
  },
  {
   "cell_type": "code",
   "execution_count": 33,
   "id": "4912e53e",
   "metadata": {},
   "outputs": [],
   "source": [
    "new = pd.DataFrame(df_.open)"
   ]
  },
  {
   "cell_type": "code",
   "execution_count": 34,
   "id": "8066f9d4",
   "metadata": {},
   "outputs": [
    {
     "data": {
      "text/html": [
       "<div>\n",
       "<style scoped>\n",
       "    .dataframe tbody tr th:only-of-type {\n",
       "        vertical-align: middle;\n",
       "    }\n",
       "\n",
       "    .dataframe tbody tr th {\n",
       "        vertical-align: top;\n",
       "    }\n",
       "\n",
       "    .dataframe thead th {\n",
       "        text-align: right;\n",
       "    }\n",
       "</style>\n",
       "<table border=\"1\" class=\"dataframe\">\n",
       "  <thead>\n",
       "    <tr style=\"text-align: right;\">\n",
       "      <th></th>\n",
       "      <th>open</th>\n",
       "    </tr>\n",
       "    <tr>\n",
       "      <th>date</th>\n",
       "      <th></th>\n",
       "    </tr>\n",
       "  </thead>\n",
       "  <tbody>\n",
       "    <tr>\n",
       "      <th>22-03-2000</th>\n",
       "      <td>1.0121</td>\n",
       "    </tr>\n",
       "    <tr>\n",
       "      <th>23-03-2000</th>\n",
       "      <td>1.0824</td>\n",
       "    </tr>\n",
       "    <tr>\n",
       "      <th>24-03-2000</th>\n",
       "      <td>1.0858</td>\n",
       "    </tr>\n",
       "    <tr>\n",
       "      <th>27-03-2000</th>\n",
       "      <td>1.0491</td>\n",
       "    </tr>\n",
       "    <tr>\n",
       "      <th>28-03-2000</th>\n",
       "      <td>1.0462</td>\n",
       "    </tr>\n",
       "  </tbody>\n",
       "</table>\n",
       "</div>"
      ],
      "text/plain": [
       "              open\n",
       "date              \n",
       "22-03-2000  1.0121\n",
       "23-03-2000  1.0824\n",
       "24-03-2000  1.0858\n",
       "27-03-2000  1.0491\n",
       "28-03-2000  1.0462"
      ]
     },
     "execution_count": 34,
     "metadata": {},
     "output_type": "execute_result"
    }
   ],
   "source": [
    "new.head()"
   ]
  },
  {
   "cell_type": "code",
   "execution_count": 35,
   "id": "2439e217",
   "metadata": {},
   "outputs": [
    {
     "data": {
      "text/plain": [
       "<AxesSubplot:xlabel='date'>"
      ]
     },
     "execution_count": 35,
     "metadata": {},
     "output_type": "execute_result"
    },
    {
     "data": {
      "image/png": "[encoded data removed]",
      "text/plain": [
       "<Figure size 432x288 with 1 Axes>"
      ]
     },
     "metadata": {
      "needs_background": "light"
     },
     "output_type": "display_data"
    }
   ],
   "source": [
    "new.plot()"
   ]
  },
  {
   "cell_type": "code",
   "execution_count": 36,
   "id": "d4875d14",
   "metadata": {},
   "outputs": [
    {
     "data": {
      "text/html": [
       "<div>\n",
       "<style scoped>\n",
       "    .dataframe tbody tr th:only-of-type {\n",
       "        vertical-align: middle;\n",
       "    }\n",
       "\n",
       "    .dataframe tbody tr th {\n",
       "        vertical-align: top;\n",
       "    }\n",
       "\n",
       "    .dataframe thead th {\n",
       "        text-align: right;\n",
       "    }\n",
       "</style>\n",
       "<table border=\"1\" class=\"dataframe\">\n",
       "  <thead>\n",
       "    <tr style=\"text-align: right;\">\n",
       "      <th></th>\n",
       "      <th>open</th>\n",
       "      <th>high</th>\n",
       "      <th>low</th>\n",
       "      <th>close</th>\n",
       "      <th>volume</th>\n",
       "      <th>profit or not</th>\n",
       "    </tr>\n",
       "    <tr>\n",
       "      <th>date</th>\n",
       "      <th></th>\n",
       "      <th></th>\n",
       "      <th></th>\n",
       "      <th></th>\n",
       "      <th></th>\n",
       "      <th></th>\n",
       "    </tr>\n",
       "  </thead>\n",
       "  <tbody>\n",
       "    <tr>\n",
       "      <th>13-11-2014</th>\n",
       "      <td>25.1988</td>\n",
       "      <td>25.5707</td>\n",
       "      <td>25.1537</td>\n",
       "      <td>25.4287</td>\n",
       "      <td>238091420</td>\n",
       "      <td>0</td>\n",
       "    </tr>\n",
       "    <tr>\n",
       "      <th>14-11-2014</th>\n",
       "      <td>25.5031</td>\n",
       "      <td>25.7375</td>\n",
       "      <td>25.4806</td>\n",
       "      <td>25.7353</td>\n",
       "      <td>176254380</td>\n",
       "      <td>0</td>\n",
       "    </tr>\n",
       "    <tr>\n",
       "      <th>17-11-2014</th>\n",
       "      <td>25.7555</td>\n",
       "      <td>26.4340</td>\n",
       "      <td>25.5369</td>\n",
       "      <td>25.6924</td>\n",
       "      <td>186986848</td>\n",
       "      <td>1</td>\n",
       "    </tr>\n",
       "    <tr>\n",
       "      <th>18-11-2014</th>\n",
       "      <td>25.6812</td>\n",
       "      <td>26.0756</td>\n",
       "      <td>25.6699</td>\n",
       "      <td>26.0260</td>\n",
       "      <td>176895912</td>\n",
       "      <td>0</td>\n",
       "    </tr>\n",
       "    <tr>\n",
       "      <th>19-11-2014</th>\n",
       "      <td>26.0192</td>\n",
       "      <td>26.0869</td>\n",
       "      <td>25.6496</td>\n",
       "      <td>25.8457</td>\n",
       "      <td>167476640</td>\n",
       "      <td>1</td>\n",
       "    </tr>\n",
       "  </tbody>\n",
       "</table>\n",
       "</div>"
      ],
      "text/plain": [
       "               open     high      low    close     volume  profit or not\n",
       "date                                                                    \n",
       "13-11-2014  25.1988  25.5707  25.1537  25.4287  238091420              0\n",
       "14-11-2014  25.5031  25.7375  25.4806  25.7353  176254380              0\n",
       "17-11-2014  25.7555  26.4340  25.5369  25.6924  186986848              1\n",
       "18-11-2014  25.6812  26.0756  25.6699  26.0260  176895912              0\n",
       "19-11-2014  26.0192  26.0869  25.6496  25.8457  167476640              1"
      ]
     },
     "execution_count": 36,
     "metadata": {},
     "output_type": "execute_result"
    }
   ],
   "source": [
    "new_1 = df[(df['close']>25) & (df['open']>25)]\n",
    "new_1.head()"
   ]
  },
  {
   "cell_type": "code",
   "execution_count": 40,
   "id": "98007d1d",
   "metadata": {},
   "outputs": [],
   "source": [
    "new_11 = new_1.open"
   ]
  },
  {
   "cell_type": "code",
   "execution_count": 41,
   "id": "109c071d",
   "metadata": {},
   "outputs": [
    {
     "data": {
      "text/plain": [
       "<AxesSubplot:xlabel='date'>"
      ]
     },
     "execution_count": 41,
     "metadata": {},
     "output_type": "execute_result"
    },
    {
     "data": {
      "image/png": "[encoded data removed]",
      "text/plain": [
       "<Figure size 432x288 with 1 Axes>"
      ]
     },
     "metadata": {
      "needs_background": "light"
     },
     "output_type": "display_data"
    }
   ],
   "source": [
    "new_11.plot()"
   ]
  },
  {
   "cell_type": "code",
   "execution_count": 42,
   "id": "052434ca",
   "metadata": {},
   "outputs": [
    {
     "data": {
      "text/html": [
       "<div>\n",
       "<style scoped>\n",
       "    .dataframe tbody tr th:only-of-type {\n",
       "        vertical-align: middle;\n",
       "    }\n",
       "\n",
       "    .dataframe tbody tr th {\n",
       "        vertical-align: top;\n",
       "    }\n",
       "\n",
       "    .dataframe thead th {\n",
       "        text-align: right;\n",
       "    }\n",
       "</style>\n",
       "<table border=\"1\" class=\"dataframe\">\n",
       "  <thead>\n",
       "    <tr style=\"text-align: right;\">\n",
       "      <th></th>\n",
       "      <th>open</th>\n",
       "      <th>high</th>\n",
       "      <th>low</th>\n",
       "      <th>close</th>\n",
       "      <th>volume</th>\n",
       "      <th>profit or not</th>\n",
       "    </tr>\n",
       "    <tr>\n",
       "      <th>date</th>\n",
       "      <th></th>\n",
       "      <th></th>\n",
       "      <th></th>\n",
       "      <th></th>\n",
       "      <th></th>\n",
       "      <th></th>\n",
       "    </tr>\n",
       "  </thead>\n",
       "  <tbody>\n",
       "    <tr>\n",
       "      <th>03-06-2020</th>\n",
       "      <td>80.0495</td>\n",
       "      <td>80.4292</td>\n",
       "      <td>79.4676</td>\n",
       "      <td>80.1629</td>\n",
       "      <td>104281476</td>\n",
       "      <td>0</td>\n",
       "    </tr>\n",
       "    <tr>\n",
       "      <th>08-06-2020</th>\n",
       "      <td>81.4278</td>\n",
       "      <td>82.2538</td>\n",
       "      <td>80.7053</td>\n",
       "      <td>82.2192</td>\n",
       "      <td>95407900</td>\n",
       "      <td>0</td>\n",
       "    </tr>\n",
       "    <tr>\n",
       "      <th>09-06-2020</th>\n",
       "      <td>81.8938</td>\n",
       "      <td>85.2150</td>\n",
       "      <td>81.8617</td>\n",
       "      <td>84.8156</td>\n",
       "      <td>147712364</td>\n",
       "      <td>0</td>\n",
       "    </tr>\n",
       "    <tr>\n",
       "      <th>10-06-2020</th>\n",
       "      <td>85.7796</td>\n",
       "      <td>87.4735</td>\n",
       "      <td>85.3334</td>\n",
       "      <td>86.9977</td>\n",
       "      <td>165423144</td>\n",
       "      <td>0</td>\n",
       "    </tr>\n",
       "    <tr>\n",
       "      <th>11-06-2020</th>\n",
       "      <td>86.1273</td>\n",
       "      <td>86.5588</td>\n",
       "      <td>82.7173</td>\n",
       "      <td>82.8209</td>\n",
       "      <td>198270700</td>\n",
       "      <td>1</td>\n",
       "    </tr>\n",
       "  </tbody>\n",
       "</table>\n",
       "</div>"
      ],
      "text/plain": [
       "               open     high      low    close     volume  profit or not\n",
       "date                                                                    \n",
       "03-06-2020  80.0495  80.4292  79.4676  80.1629  104281476              0\n",
       "08-06-2020  81.4278  82.2538  80.7053  82.2192   95407900              0\n",
       "09-06-2020  81.8938  85.2150  81.8617  84.8156  147712364              0\n",
       "10-06-2020  85.7796  87.4735  85.3334  86.9977  165423144              0\n",
       "11-06-2020  86.1273  86.5588  82.7173  82.8209  198270700              1"
      ]
     },
     "execution_count": 42,
     "metadata": {},
     "output_type": "execute_result"
    }
   ],
   "source": [
    "df_2019 = df[(df['close']>80) & (df['open']>80)]\n",
    "df_2019.head()"
   ]
  },
  {
   "cell_type": "code",
   "execution_count": 49,
   "id": "36a075ac",
   "metadata": {},
   "outputs": [
    {
     "data": {
      "text/plain": [
       "(array([-100.,    0.,  100.,  200.,  300.,  400.,  500.,  600.,  700.]),\n",
       " [Text(-100.0, 0, '08-06-2022'),\n",
       "  Text(0.0, 0, '03-06-2020'),\n",
       "  Text(100.0, 0, '27-10-2020'),\n",
       "  Text(200.0, 0, '23-03-2021'),\n",
       "  Text(300.0, 0, '13-08-2021'),\n",
       "  Text(400.0, 0, '05-01-2022'),\n",
       "  Text(500.0, 0, '31-05-2022'),\n",
       "  Text(600.0, 0, '21-10-2022'),\n",
       "  Text(700.0, 0, '')])"
      ]
     },
     "execution_count": 49,
     "metadata": {},
     "output_type": "execute_result"
    },
    {
     "data": {
      "image/png": "[encoded data removed]",
      "text/plain": [
       "<Figure size 432x288 with 1 Axes>"
      ]
     },
     "metadata": {
      "needs_background": "light"
     },
     "output_type": "display_data"
    }
   ],
   "source": [
    "df2019 = pd.DataFrame(df_2019.open).plot()\n",
    "plt.xticks(rotation=45)"
   ]
  },
  {
   "cell_type": "code",
   "execution_count": 54,
   "id": "b6d547d8",
   "metadata": {},
   "outputs": [],
   "source": [
    "from statsmodels.tsa.stattools import adfuller"
   ]
  },
  {
   "cell_type": "code",
   "execution_count": 56,
   "id": "832b533e",
   "metadata": {},
   "outputs": [
    {
     "data": {
      "text/plain": [
       "(-2.657677056382566,\n",
       " 0.08165264803162015,\n",
       " 0,\n",
       " 605,\n",
       " {'1%': -3.441204979288887, '5%': -2.86632910370007, '10%': -2.56932048425654},\n",
       " 2927.8073203126405)"
      ]
     },
     "execution_count": 56,
     "metadata": {},
     "output_type": "execute_result"
    }
   ],
   "source": [
    "test_result = adfuller(df_2019['open'])\n",
    "test_result\n",
    "\n",
    "#here we can see the data is not stationary as p-value is greater than 0.05"
   ]
  },
  {
   "cell_type": "markdown",
   "id": "da9d8f98",
   "metadata": {},
   "source": [
    "## Differencing"
   ]
  },
  {
   "cell_type": "code",
   "execution_count": 57,
   "id": "20630038",
   "metadata": {},
   "outputs": [
    {
     "name": "stderr",
     "output_type": "stream",
     "text": [
      "<ipython-input-57-d56363f15290>:1: SettingWithCopyWarning: \n",
      "A value is trying to be set on a copy of a slice from a DataFrame.\n",
      "Try using .loc[row_indexer,col_indexer] = value instead\n",
      "\n",
      "See the caveats in the documentation: https://pandas.pydata.org/pandas-docs/stable/user_guide/indexing.html#returning-a-view-versus-a-copy\n",
      "  df_2019['diff'] =df_2019['open'] - df_2019['open'].shift(1)\n"
     ]
    }
   ],
   "source": [
    "df_2019['diff'] =df_2019['open'] - df_2019['open'].shift(1) \n",
    " #by using the differencing we shift the data set by 1 downwards for stationary purpose"
   ]
  },
  {
   "cell_type": "code",
   "execution_count": 58,
   "id": "f70c9778",
   "metadata": {},
   "outputs": [
    {
     "data": {
      "text/html": [
       "<div>\n",
       "<style scoped>\n",
       "    .dataframe tbody tr th:only-of-type {\n",
       "        vertical-align: middle;\n",
       "    }\n",
       "\n",
       "    .dataframe tbody tr th {\n",
       "        vertical-align: top;\n",
       "    }\n",
       "\n",
       "    .dataframe thead th {\n",
       "        text-align: right;\n",
       "    }\n",
       "</style>\n",
       "<table border=\"1\" class=\"dataframe\">\n",
       "  <thead>\n",
       "    <tr style=\"text-align: right;\">\n",
       "      <th></th>\n",
       "      <th>open</th>\n",
       "      <th>high</th>\n",
       "      <th>low</th>\n",
       "      <th>close</th>\n",
       "      <th>volume</th>\n",
       "      <th>profit or not</th>\n",
       "      <th>diff</th>\n",
       "    </tr>\n",
       "    <tr>\n",
       "      <th>date</th>\n",
       "      <th></th>\n",
       "      <th></th>\n",
       "      <th></th>\n",
       "      <th></th>\n",
       "      <th></th>\n",
       "      <th></th>\n",
       "      <th></th>\n",
       "    </tr>\n",
       "  </thead>\n",
       "  <tbody>\n",
       "    <tr>\n",
       "      <th>03-06-2020</th>\n",
       "      <td>80.0495</td>\n",
       "      <td>80.4292</td>\n",
       "      <td>79.4676</td>\n",
       "      <td>80.1629</td>\n",
       "      <td>104281476</td>\n",
       "      <td>0</td>\n",
       "      <td>NaN</td>\n",
       "    </tr>\n",
       "    <tr>\n",
       "      <th>08-06-2020</th>\n",
       "      <td>81.4278</td>\n",
       "      <td>82.2538</td>\n",
       "      <td>80.7053</td>\n",
       "      <td>82.2192</td>\n",
       "      <td>95407900</td>\n",
       "      <td>0</td>\n",
       "      <td>1.3783</td>\n",
       "    </tr>\n",
       "    <tr>\n",
       "      <th>09-06-2020</th>\n",
       "      <td>81.8938</td>\n",
       "      <td>85.2150</td>\n",
       "      <td>81.8617</td>\n",
       "      <td>84.8156</td>\n",
       "      <td>147712364</td>\n",
       "      <td>0</td>\n",
       "      <td>0.4660</td>\n",
       "    </tr>\n",
       "    <tr>\n",
       "      <th>10-06-2020</th>\n",
       "      <td>85.7796</td>\n",
       "      <td>87.4735</td>\n",
       "      <td>85.3334</td>\n",
       "      <td>86.9977</td>\n",
       "      <td>165423144</td>\n",
       "      <td>0</td>\n",
       "      <td>3.8858</td>\n",
       "    </tr>\n",
       "    <tr>\n",
       "      <th>11-06-2020</th>\n",
       "      <td>86.1273</td>\n",
       "      <td>86.5588</td>\n",
       "      <td>82.7173</td>\n",
       "      <td>82.8209</td>\n",
       "      <td>198270700</td>\n",
       "      <td>1</td>\n",
       "      <td>0.3477</td>\n",
       "    </tr>\n",
       "  </tbody>\n",
       "</table>\n",
       "</div>"
      ],
      "text/plain": [
       "               open     high      low    close     volume  profit or not  \\\n",
       "date                                                                       \n",
       "03-06-2020  80.0495  80.4292  79.4676  80.1629  104281476              0   \n",
       "08-06-2020  81.4278  82.2538  80.7053  82.2192   95407900              0   \n",
       "09-06-2020  81.8938  85.2150  81.8617  84.8156  147712364              0   \n",
       "10-06-2020  85.7796  87.4735  85.3334  86.9977  165423144              0   \n",
       "11-06-2020  86.1273  86.5588  82.7173  82.8209  198270700              1   \n",
       "\n",
       "              diff  \n",
       "date                \n",
       "03-06-2020     NaN  \n",
       "08-06-2020  1.3783  \n",
       "09-06-2020  0.4660  \n",
       "10-06-2020  3.8858  \n",
       "11-06-2020  0.3477  "
      ]
     },
     "execution_count": 58,
     "metadata": {},
     "output_type": "execute_result"
    }
   ],
   "source": [
    "df_2019.head()"
   ]
  },
  {
   "cell_type": "code",
   "execution_count": 70,
   "id": "6300a9c9",
   "metadata": {},
   "outputs": [
    {
     "data": {
      "text/plain": [
       "(-26.120694925791724,\n",
       " 0.0,\n",
       " 0,\n",
       " 604,\n",
       " {'1%': -3.4412230283528937,\n",
       "  '5%': -2.8663370524631344,\n",
       "  '10%': -2.5693247196394893},\n",
       " 2928.150952197604)"
      ]
     },
     "execution_count": 70,
     "metadata": {},
     "output_type": "execute_result"
    }
   ],
   "source": [
    "test_result = adfuller(df_2019['diff'].dropna())\n",
    "test_result\n",
    "#here the p-value is 0.0 so, we are successful to convert into stationary data"
   ]
  },
  {
   "cell_type": "code",
   "execution_count": 71,
   "id": "e58e1e56",
   "metadata": {},
   "outputs": [
    {
     "data": {
      "text/plain": [
       "<AxesSubplot:xlabel='date'>"
      ]
     },
     "execution_count": 71,
     "metadata": {},
     "output_type": "execute_result"
    },
    {
     "data": {
      "image/png": "[encoded data removed]",
      "text/plain": [
       "<Figure size 432x288 with 1 Axes>"
      ]
     },
     "metadata": {
      "needs_background": "light"
     },
     "output_type": "display_data"
    }
   ],
   "source": [
    "df_2019['diff'].plot() \n",
    "#here we can see the data is almost stationary"
   ]
  },
  {
   "cell_type": "code",
   "execution_count": 82,
   "id": "95a54556",
   "metadata": {},
   "outputs": [
    {
     "data": {
      "text/plain": [
       "<function pandas.plotting._misc.autocorrelation_plot(series, ax=None, **kwargs)>"
      ]
     },
     "execution_count": 82,
     "metadata": {},
     "output_type": "execute_result"
    }
   ],
   "source": [
    "pd.plotting.autocorrelation_plot"
   ]
  },
  {
   "cell_type": "code",
   "execution_count": 86,
   "id": "d7c69124",
   "metadata": {},
   "outputs": [
    {
     "data": {
      "text/plain": [
       "<AxesSubplot:xlabel='Lag', ylabel='Autocorrelation'>"
      ]
     },
     "execution_count": 86,
     "metadata": {},
     "output_type": "execute_result"
    },
    {
     "data": {
      "image/png": "[encoded data removed]",
      "text/plain": [
       "<Figure size 432x288 with 1 Axes>"
      ]
     },
     "metadata": {
      "needs_background": "light"
     },
     "output_type": "display_data"
    }
   ],
   "source": [
    "pd.plotting.autocorrelation_plot(df_2019['close'])"
   ]
  },
  {
   "cell_type": "code",
   "execution_count": null,
   "id": "8e2ee072",
   "metadata": {},
   "outputs": [],
   "source": []
  },
  {
   "cell_type": "code",
   "execution_count": null,
   "id": "da5b42db",
   "metadata": {},
   "outputs": [],
   "source": []
  }
 ],
 "metadata": {
  "kernelspec": {
   "display_name": "Python 3",
   "language": "python",
   "name": "python3"
  },
  "language_info": {
   "codemirror_mode": {
    "name": "ipython",
    "version": 3
   },
   "file_extension": ".py",
   "mimetype": "text/x-python",
   "name": "python",
   "nbconvert_exporter": "python",
   "pygments_lexer": "ipython3",
   "version": "3.8.8"
  }
 },
 "nbformat": 4,
 "nbformat_minor": 5
}
